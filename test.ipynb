{
 "cells": [
  {
   "cell_type": "code",
   "execution_count": 1,
   "metadata": {},
   "outputs": [],
   "source": [
    "#11.192423, 79.709923\n",
    "# \"place_id\": \"ChIJ6arCErzfVDoRvcoVZwi9Tvk\",\n",
    "# \"data_id\": \"0x3a54dfbc12c2aae9:0xf94ebd086715cabd\",\n",
    "\n",
    "from outscraper import ApiClient\n",
    "from dotenv import load_dotenv\n",
    "import os\n",
    "import datetime\n",
    "from datetime import timedelta\n",
    "import time\n",
    "import pickle\n",
    "import pandas as pd\n",
    "import numpy as np\n",
    "load_dotenv()\n",
    "\n",
    "\n",
    "client = ApiClient(api_key=os.environ['OUTSCRAPPER_KEY'])"
   ]
  },
  {
   "cell_type": "code",
   "execution_count": 4,
   "metadata": {},
   "outputs": [],
   "source": [
    "d={'name':['soorya','nethra'],'roll_number':['12345','56789']}\n",
    "df=pd.DataFrame(d)\n",
    "df.to_csv('test.csv',index=False)"
   ]
  },
  {
   "cell_type": "markdown",
   "metadata": {},
   "source": [
    "## SerpAPI"
   ]
  },
  {
   "cell_type": "code",
   "execution_count": 9,
   "metadata": {},
   "outputs": [
    {
     "ename": "ImportError",
     "evalue": "cannot import name 'GoogleSearch' from 'serpapi' (/home/svenk199/test/sadha/.venv/lib/python3.10/site-packages/serpapi/__init__.py)",
     "output_type": "error",
     "traceback": [
      "\u001b[0;31m---------------------------------------------------------------------------\u001b[0m",
      "\u001b[0;31mImportError\u001b[0m                               Traceback (most recent call last)",
      "Cell \u001b[0;32mIn[9], line 3\u001b[0m\n\u001b[1;32m      1\u001b[0m \u001b[38;5;28;01mimport\u001b[39;00m \u001b[38;5;21;01mos\u001b[39;00m\n\u001b[1;32m      2\u001b[0m \u001b[38;5;28;01mimport\u001b[39;00m \u001b[38;5;21;01mserpapi\u001b[39;00m\n\u001b[0;32m----> 3\u001b[0m \u001b[38;5;28;01mfrom\u001b[39;00m \u001b[38;5;21;01mserpapi\u001b[39;00m \u001b[38;5;28;01mimport\u001b[39;00m GoogleSearch\n\u001b[1;32m      5\u001b[0m \u001b[38;5;28;01mfrom\u001b[39;00m \u001b[38;5;21;01mdotenv\u001b[39;00m \u001b[38;5;28;01mimport\u001b[39;00m load_dotenv\n\u001b[1;32m      6\u001b[0m load_dotenv()\n",
      "\u001b[0;31mImportError\u001b[0m: cannot import name 'GoogleSearch' from 'serpapi' (/home/svenk199/test/sadha/.venv/lib/python3.10/site-packages/serpapi/__init__.py)"
     ]
    }
   ],
   "source": [
    "import os\n",
    "import serpapi\n",
    "\n",
    "\n",
    "from dotenv import load_dotenv\n",
    "load_dotenv()"
   ]
  },
  {
   "cell_type": "code",
   "execution_count": 6,
   "metadata": {},
   "outputs": [],
   "source": [
    "api_key=os.environ['SERPAPI_KEY']\n",
    "client=serpapi.Client(api_key=api_key)"
   ]
  },
  {
   "cell_type": "code",
   "execution_count": 7,
   "metadata": {},
   "outputs": [],
   "source": [
    "results = client.search({\n",
    "    'engine': 'google_maps',\n",
    "    'q': 'Hotel Sadhabishegam',\n",
    "    'll': '@11.192423, 79.709923,15.1z',\n",
    "    'type': 'search',\n",
    "})"
   ]
  },
  {
   "cell_type": "code",
   "execution_count": 10,
   "metadata": {},
   "outputs": [],
   "source": [
    "results = client.search({\n",
    "    'engine': 'google_maps_reviews',\n",
    "    'place_id': 'ChIJ6arCErzfVDoRvcoVZwi9Tvk',\n",
    "    'type': 'search',\n",
    "    'sort_by': 'newestFirst',\n",
    "    \n",
    "})"
   ]
  },
  {
   "cell_type": "code",
   "execution_count": 11,
   "metadata": {},
   "outputs": [
    {
     "data": {
      "text/plain": [
       "{\u001b[37m\u001b[39;49;00m\n",
       "\u001b[37m    \u001b[39;49;00m\u001b[94m\"search_metadata\"\u001b[39;49;00m:\u001b[37m \u001b[39;49;00m{\u001b[37m\u001b[39;49;00m\n",
       "\u001b[37m        \u001b[39;49;00m\u001b[94m\"id\"\u001b[39;49;00m:\u001b[37m \u001b[39;49;00m\u001b[33m\"664f380f3a218ac53a3fa743\"\u001b[39;49;00m,\u001b[37m\u001b[39;49;00m\n",
       "\u001b[37m        \u001b[39;49;00m\u001b[94m\"status\"\u001b[39;49;00m:\u001b[37m \u001b[39;49;00m\u001b[33m\"Success\"\u001b[39;49;00m,\u001b[37m\u001b[39;49;00m\n",
       "\u001b[37m        \u001b[39;49;00m\u001b[94m\"json_endpoint\"\u001b[39;49;00m:\u001b[37m \u001b[39;49;00m\u001b[33m\"https://serpapi.com/searches/fd53e023fbaff88f/664f380f3a218ac53a3fa743.json\"\u001b[39;49;00m,\u001b[37m\u001b[39;49;00m\n",
       "\u001b[37m        \u001b[39;49;00m\u001b[94m\"created_at\"\u001b[39;49;00m:\u001b[37m \u001b[39;49;00m\u001b[33m\"2024-05-23 12:35:27 UTC\"\u001b[39;49;00m,\u001b[37m\u001b[39;49;00m\n",
       "\u001b[37m        \u001b[39;49;00m\u001b[94m\"processed_at\"\u001b[39;49;00m:\u001b[37m \u001b[39;49;00m\u001b[33m\"2024-05-23 12:35:27 UTC\"\u001b[39;49;00m,\u001b[37m\u001b[39;49;00m\n",
       "\u001b[37m        \u001b[39;49;00m\u001b[94m\"google_maps_reviews_url\"\u001b[39;49;00m:\u001b[37m \u001b[39;49;00m\u001b[33m\"https://www.google.com/maps/place/data=!4m7!3m6!1s!5m2!4m1!1i2!9m1!1b1?hl=en&gl=\"\u001b[39;49;00m,\u001b[37m\u001b[39;49;00m\n",
       "\u001b[37m        \u001b[39;49;00m\u001b[94m\"raw_html_file\"\u001b[39;49;00m:\u001b[37m \u001b[39;49;00m\u001b[33m\"https://serpapi.com/searches/fd53e023fbaff88f/664f380f3a218ac53a3fa743.html\"\u001b[39;49;00m,\u001b[37m\u001b[39;49;00m\n",
       "\u001b[37m        \u001b[39;49;00m\u001b[94m\"prettify_html_file\"\u001b[39;49;00m:\u001b[37m \u001b[39;49;00m\u001b[33m\"https://serpapi.com/searches/fd53e023fbaff88f/664f380f3a218ac53a3fa743.prettify\"\u001b[39;49;00m,\u001b[37m\u001b[39;49;00m\n",
       "\u001b[37m        \u001b[39;49;00m\u001b[94m\"total_time_taken\"\u001b[39;49;00m:\u001b[37m \u001b[39;49;00m\u001b[34m1.04\u001b[39;49;00m\u001b[37m\u001b[39;49;00m\n",
       "\u001b[37m    \u001b[39;49;00m},\u001b[37m\u001b[39;49;00m\n",
       "\u001b[37m    \u001b[39;49;00m\u001b[94m\"search_parameters\"\u001b[39;49;00m:\u001b[37m \u001b[39;49;00m{\u001b[37m\u001b[39;49;00m\n",
       "\u001b[37m        \u001b[39;49;00m\u001b[94m\"engine\"\u001b[39;49;00m:\u001b[37m \u001b[39;49;00m\u001b[33m\"google_maps_reviews\"\u001b[39;49;00m,\u001b[37m\u001b[39;49;00m\n",
       "\u001b[37m        \u001b[39;49;00m\u001b[94m\"place_id\"\u001b[39;49;00m:\u001b[37m \u001b[39;49;00m\u001b[33m\"ChIJ6arCErzfVDoRvcoVZwi9Tvk\"\u001b[39;49;00m,\u001b[37m\u001b[39;49;00m\n",
       "\u001b[37m        \u001b[39;49;00m\u001b[94m\"hl\"\u001b[39;49;00m:\u001b[37m \u001b[39;49;00m\u001b[33m\"en\"\u001b[39;49;00m,\u001b[37m\u001b[39;49;00m\n",
       "\u001b[37m        \u001b[39;49;00m\u001b[94m\"sort_by\"\u001b[39;49;00m:\u001b[37m \u001b[39;49;00m\u001b[33m\"newestFirst\"\u001b[39;49;00m\u001b[37m\u001b[39;49;00m\n",
       "\u001b[37m    \u001b[39;49;00m},\u001b[37m\u001b[39;49;00m\n",
       "\u001b[37m    \u001b[39;49;00m\u001b[94m\"place_info\"\u001b[39;49;00m:\u001b[37m \u001b[39;49;00m{\u001b[37m\u001b[39;49;00m\n",
       "\u001b[37m        \u001b[39;49;00m\u001b[94m\"title\"\u001b[39;49;00m:\u001b[37m \u001b[39;49;00m\u001b[33m\"Hotel Sadhabishegam\"\u001b[39;49;00m,\u001b[37m\u001b[39;49;00m\n",
       "\u001b[37m        \u001b[39;49;00m\u001b[94m\"address\"\u001b[39;49;00m:\u001b[37m \u001b[39;49;00m\u001b[33m\"1, Mayiladuthurai Road, Vaitheeswarankoil, Tamil Nadu 609117, India\"\u001b[39;49;00m,\u001b[37m\u001b[39;49;00m\n",
       "\u001b[37m        \u001b[39;49;00m\u001b[94m\"rating\"\u001b[39;49;00m:\u001b[37m \u001b[39;49;00m\u001b[34m3.9\u001b[39;49;00m,\u001b[37m\u001b[39;49;00m\n",
       "\u001b[37m        \u001b[39;49;00m\u001b[94m\"reviews\"\u001b[39;49;00m:\u001b[37m \u001b[39;49;00m\u001b[34m2759\u001b[39;49;00m,\u001b[37m\u001b[39;49;00m\n",
       "\u001b[37m        \u001b[39;49;00m\u001b[94m\"type\"\u001b[39;49;00m:\u001b[37m \u001b[39;49;00m\u001b[33m\"Hotel\"\u001b[39;49;00m\u001b[37m\u001b[39;49;00m\n",
       "\u001b[37m    \u001b[39;49;00m},\u001b[37m\u001b[39;49;00m\n",
       "\u001b[37m    \u001b[39;49;00m\u001b[94m\"topics\"\u001b[39;49;00m:\u001b[37m \u001b[39;49;00m[\u001b[37m\u001b[39;49;00m\n",
       "\u001b[37m        \u001b[39;49;00m{\u001b[37m\u001b[39;49;00m\n",
       "\u001b[37m            \u001b[39;49;00m\u001b[94m\"keyword\"\u001b[39;49;00m:\u001b[37m \u001b[39;49;00m\u001b[33m\"vegetarian food\"\u001b[39;49;00m,\u001b[37m\u001b[39;49;00m\n",
       "\u001b[37m            \u001b[39;49;00m\u001b[94m\"mentions\"\u001b[39;49;00m:\u001b[37m \u001b[39;49;00m\u001b[34m46\u001b[39;49;00m,\u001b[37m\u001b[39;49;00m\n",
       "\u001b[37m            \u001b[39;49;00m\u001b[94m\"id\"\u001b[39;49;00m:\u001b[37m \u001b[39;49;00m\u001b[33m\"/m/07_lq\"\u001b[39;49;00m\u001b[37m\u001b[39;49;00m\n",
       "\u001b[37m        \u001b[39;49;00m},\u001b[37m\u001b[39;49;00m\n",
       "\u001b[37m        \u001b[39;49;00m{\u001b[37m\u001b[39;49;00m\n",
       "\u001b[37m            \u001b[39;49;00m\u001b[94m\"keyword\"\u001b[39;49;00m:\u001b[37m \u001b[39;49;00m\u001b[33m\"rest room\"\u001b[39;49;00m,\u001b[37m\u001b[39;49;00m\n",
       "\u001b[37m            \u001b[39;49;00m\u001b[94m\"mentions\"\u001b[39;49;00m:\u001b[37m \u001b[39;49;00m\u001b[34m16\u001b[39;49;00m,\u001b[37m\u001b[39;49;00m\n",
       "\u001b[37m            \u001b[39;49;00m\u001b[94m\"id\"\u001b[39;49;00m:\u001b[37m \u001b[39;49;00m\u001b[33m\"/m/041x_j\"\u001b[39;49;00m\u001b[37m\u001b[39;49;00m\n",
       "\u001b[37m        \u001b[39;49;00m},\u001b[37m\u001b[39;49;00m\n",
       "\u001b[37m        \u001b[39;49;00m{\u001b[37m\u001b[39;49;00m\n",
       "\u001b[37m            \u001b[39;49;00m\u001b[94m\"keyword\"\u001b[39;49;00m:\u001b[37m \u001b[39;49;00m\u001b[33m\"parking space\"\u001b[39;49;00m,\u001b[37m\u001b[39;49;00m\n",
       "\u001b[37m            \u001b[39;49;00m\u001b[94m\"mentions\"\u001b[39;49;00m:\u001b[37m \u001b[39;49;00m\u001b[34m14\u001b[39;49;00m,\u001b[37m\u001b[39;49;00m\n",
       "\u001b[37m            \u001b[39;49;00m\u001b[94m\"id\"\u001b[39;49;00m:\u001b[37m \u001b[39;49;00m\u001b[33m\"/m/03pb_0\"\u001b[39;49;00m\u001b[37m\u001b[39;49;00m\n",
       "\u001b[37m        \u001b[39;49;00m},\u001b[37m\u001b[39;49;00m\n",
       "\u001b[37m        \u001b[39;49;00m{\u001b[37m\u001b[39;49;00m\n",
       "\u001b[37m            \u001b[39;49;00m\u001b[94m\"keyword\"\u001b[39;49;00m:\u001b[37m \u001b[39;49;00m\u001b[33m\"dosa\"\u001b[39;49;00m,\u001b[37m\u001b[39;49;00m\n",
       "\u001b[37m            \u001b[39;49;00m\u001b[94m\"mentions\"\u001b[39;49;00m:\u001b[37m \u001b[39;49;00m\u001b[34m12\u001b[39;49;00m,\u001b[37m\u001b[39;49;00m\n",
       "\u001b[37m            \u001b[39;49;00m\u001b[94m\"id\"\u001b[39;49;00m:\u001b[37m \u001b[39;49;00m\u001b[33m\"/m/01_7cz\"\u001b[39;49;00m\u001b[37m\u001b[39;49;00m\n",
       "\u001b[37m        \u001b[39;49;00m},\u001b[37m\u001b[39;49;00m\n",
       "\u001b[37m        \u001b[39;49;00m{\u001b[37m\u001b[39;49;00m\n",
       "\u001b[37m            \u001b[39;49;00m\u001b[94m\"keyword\"\u001b[39;49;00m:\u001b[37m \u001b[39;49;00m\u001b[33m\"ducks\"\u001b[39;49;00m,\u001b[37m\u001b[39;49;00m\n",
       "\u001b[37m            \u001b[39;49;00m\u001b[94m\"mentions\"\u001b[39;49;00m:\u001b[37m \u001b[39;49;00m\u001b[34m12\u001b[39;49;00m,\u001b[37m\u001b[39;49;00m\n",
       "\u001b[37m            \u001b[39;49;00m\u001b[94m\"id\"\u001b[39;49;00m:\u001b[37m \u001b[39;49;00m\u001b[33m\"/m/09ddx\"\u001b[39;49;00m\u001b[37m\u001b[39;49;00m\n",
       "\u001b[37m        \u001b[39;49;00m},\u001b[37m\u001b[39;49;00m\n",
       "\u001b[37m        \u001b[39;49;00m{\u001b[37m\u001b[39;49;00m\n",
       "\u001b[37m            \u001b[39;49;00m\u001b[94m\"keyword\"\u001b[39;49;00m:\u001b[37m \u001b[39;49;00m\u001b[33m\"sambar\"\u001b[39;49;00m,\u001b[37m\u001b[39;49;00m\n",
       "\u001b[37m            \u001b[39;49;00m\u001b[94m\"mentions\"\u001b[39;49;00m:\u001b[37m \u001b[39;49;00m\u001b[34m12\u001b[39;49;00m,\u001b[37m\u001b[39;49;00m\n",
       "\u001b[37m            \u001b[39;49;00m\u001b[94m\"id\"\u001b[39;49;00m:\u001b[37m \u001b[39;49;00m\u001b[33m\"/m/02s_nm\"\u001b[39;49;00m\u001b[37m\u001b[39;49;00m\n",
       "\u001b[37m        \u001b[39;49;00m},\u001b[37m\u001b[39;49;00m\n",
       "\u001b[37m        \u001b[39;49;00m{\u001b[37m\u001b[39;49;00m\n",
       "\u001b[37m            \u001b[39;49;00m\u001b[94m\"keyword\"\u001b[39;49;00m:\u001b[37m \u001b[39;49;00m\u001b[33m\"south indian food\"\u001b[39;49;00m,\u001b[37m\u001b[39;49;00m\n",
       "\u001b[37m            \u001b[39;49;00m\u001b[94m\"mentions\"\u001b[39;49;00m:\u001b[37m \u001b[39;49;00m\u001b[34m9\u001b[39;49;00m,\u001b[37m\u001b[39;49;00m\n",
       "\u001b[37m            \u001b[39;49;00m\u001b[94m\"id\"\u001b[39;49;00m:\u001b[37m \u001b[39;49;00m\u001b[33m\"/m/0gxvkh\"\u001b[39;49;00m\u001b[37m\u001b[39;49;00m\n",
       "\u001b[37m        \u001b[39;49;00m},\u001b[37m\u001b[39;49;00m\n",
       "\u001b[37m        \u001b[39;49;00m{\u001b[37m\u001b[39;49;00m\n",
       "\u001b[37m            \u001b[39;49;00m\u001b[94m\"keyword\"\u001b[39;49;00m:\u001b[37m \u001b[39;49;00m\u001b[33m\"tiffin\"\u001b[39;49;00m,\u001b[37m\u001b[39;49;00m\n",
       "\u001b[37m            \u001b[39;49;00m\u001b[94m\"mentions\"\u001b[39;49;00m:\u001b[37m \u001b[39;49;00m\u001b[34m8\u001b[39;49;00m,\u001b[37m\u001b[39;49;00m\n",
       "\u001b[37m            \u001b[39;49;00m\u001b[94m\"id\"\u001b[39;49;00m:\u001b[37m \u001b[39;49;00m\u001b[33m\"/m/03x9vb\"\u001b[39;49;00m\u001b[37m\u001b[39;49;00m\n",
       "\u001b[37m        \u001b[39;49;00m},\u001b[37m\u001b[39;49;00m\n",
       "\u001b[37m        \u001b[39;49;00m{\u001b[37m\u001b[39;49;00m\n",
       "\u001b[37m            \u001b[39;49;00m\u001b[94m\"keyword\"\u001b[39;49;00m:\u001b[37m \u001b[39;49;00m\u001b[33m\"pongal\"\u001b[39;49;00m,\u001b[37m\u001b[39;49;00m\n",
       "\u001b[37m            \u001b[39;49;00m\u001b[94m\"mentions\"\u001b[39;49;00m:\u001b[37m \u001b[39;49;00m\u001b[34m7\u001b[39;49;00m,\u001b[37m\u001b[39;49;00m\n",
       "\u001b[37m            \u001b[39;49;00m\u001b[94m\"id\"\u001b[39;49;00m:\u001b[37m \u001b[39;49;00m\u001b[33m\"/m/08qy9j\"\u001b[39;49;00m\u001b[37m\u001b[39;49;00m\n",
       "\u001b[37m        \u001b[39;49;00m},\u001b[37m\u001b[39;49;00m\n",
       "\u001b[37m        \u001b[39;49;00m{\u001b[37m\u001b[39;49;00m\n",
       "\u001b[37m            \u001b[39;49;00m\u001b[94m\"keyword\"\u001b[39;49;00m:\u001b[37m \u001b[39;49;00m\u001b[33m\"pilgrimage\"\u001b[39;49;00m,\u001b[37m\u001b[39;49;00m\n",
       "\u001b[37m            \u001b[39;49;00m\u001b[94m\"mentions\"\u001b[39;49;00m:\u001b[37m \u001b[39;49;00m\u001b[34m5\u001b[39;49;00m,\u001b[37m\u001b[39;49;00m\n",
       "\u001b[37m            \u001b[39;49;00m\u001b[94m\"id\"\u001b[39;49;00m:\u001b[37m \u001b[39;49;00m\u001b[33m\"/m/05y0x\"\u001b[39;49;00m\u001b[37m\u001b[39;49;00m\n",
       "\u001b[37m        \u001b[39;49;00m}\u001b[37m\u001b[39;49;00m\n",
       "\u001b[37m    \u001b[39;49;00m],\u001b[37m\u001b[39;49;00m\n",
       "\u001b[37m    \u001b[39;49;00m\u001b[94m\"reviews\"\u001b[39;49;00m:\u001b[37m \u001b[39;49;00m[\u001b[37m\u001b[39;49;00m\n",
       "\u001b[37m        \u001b[39;49;00m{\u001b[37m\u001b[39;49;00m\n",
       "\u001b[37m            \u001b[39;49;00m\u001b[94m\"link\"\u001b[39;49;00m:\u001b[37m \u001b[39;49;00m\u001b[33m\"https://www.google.com/maps/reviews/data=!4m8!14m7!1m6!2m5!1sChdDSUhNMG9nS0VJQ0FnSURUcE5TbGxBRRAB!2m1!1s0x0:0xf94ebd086715cabd!3m1!1s2@1:CIHM0ogKEICAgIDTpNSllAE%7CCgwI-L24sgYQgOKykwM%7C?hl=en-US\"\u001b[39;49;00m,\u001b[37m\u001b[39;49;00m\n",
       "\u001b[37m            \u001b[39;49;00m\u001b[94m\"rating\"\u001b[39;49;00m:\u001b[37m \u001b[39;49;00m\u001b[34m2.0\u001b[39;49;00m,\u001b[37m\u001b[39;49;00m\n",
       "\u001b[37m            \u001b[39;49;00m\u001b[94m\"date\"\u001b[39;49;00m:\u001b[37m \u001b[39;49;00m\u001b[33m\"19 hours ago\"\u001b[39;49;00m,\u001b[37m\u001b[39;49;00m\n",
       "\u001b[37m            \u001b[39;49;00m\u001b[94m\"iso_date\"\u001b[39;49;00m:\u001b[37m \u001b[39;49;00m\u001b[33m\"2024-05-22T16:36:08Z\"\u001b[39;49;00m,\u001b[37m\u001b[39;49;00m\n",
       "\u001b[37m            \u001b[39;49;00m\u001b[94m\"iso_date_of_last_edit\"\u001b[39;49;00m:\u001b[37m \u001b[39;49;00m\u001b[33m\"2024-05-22T16:36:08Z\"\u001b[39;49;00m,\u001b[37m\u001b[39;49;00m\n",
       "\u001b[37m            \u001b[39;49;00m\u001b[94m\"source\"\u001b[39;49;00m:\u001b[37m \u001b[39;49;00m\u001b[33m\"Google\"\u001b[39;49;00m,\u001b[37m\u001b[39;49;00m\n",
       "\u001b[37m            \u001b[39;49;00m\u001b[94m\"review_id\"\u001b[39;49;00m:\u001b[37m \u001b[39;49;00m\u001b[33m\"ChdDSUhNMG9nS0VJQ0FnSURUcE5TbGxBRRAB\"\u001b[39;49;00m,\u001b[37m\u001b[39;49;00m\n",
       "\u001b[37m            \u001b[39;49;00m\u001b[94m\"user\"\u001b[39;49;00m:\u001b[37m \u001b[39;49;00m{\u001b[37m\u001b[39;49;00m\n",
       "\u001b[37m                \u001b[39;49;00m\u001b[94m\"name\"\u001b[39;49;00m:\u001b[37m \u001b[39;49;00m\u001b[33m\"Mobile icon\"\u001b[39;49;00m,\u001b[37m\u001b[39;49;00m\n",
       "\u001b[37m                \u001b[39;49;00m\u001b[94m\"link\"\u001b[39;49;00m:\u001b[37m \u001b[39;49;00m\u001b[33m\"https://www.google.com/maps/contrib/112965721774150179598?hl=en-US\"\u001b[39;49;00m,\u001b[37m\u001b[39;49;00m\n",
       "\u001b[37m                \u001b[39;49;00m\u001b[94m\"contributor_id\"\u001b[39;49;00m:\u001b[37m \u001b[39;49;00m\u001b[33m\"112965721774150179598\"\u001b[39;49;00m,\u001b[37m\u001b[39;49;00m\n",
       "\u001b[37m                \u001b[39;49;00m\u001b[94m\"thumbnail\"\u001b[39;49;00m:\u001b[37m \u001b[39;49;00m\u001b[33m\"https://lh3.googleusercontent.com/a-/ALV-UjVkra0tyV48okFzyGOC--sm1XzsulcaXFEcT7RFBbtOSqes4wgYsg=s120-c-rp-mo-ba3-br100\"\u001b[39;49;00m,\u001b[37m\u001b[39;49;00m\n",
       "\u001b[37m                \u001b[39;49;00m\u001b[94m\"local_guide\"\u001b[39;49;00m:\u001b[37m \u001b[39;49;00m\u001b[34mtrue\u001b[39;49;00m,\u001b[37m\u001b[39;49;00m\n",
       "\u001b[37m                \u001b[39;49;00m\u001b[94m\"reviews\"\u001b[39;49;00m:\u001b[37m \u001b[39;49;00m\u001b[34m34\u001b[39;49;00m,\u001b[37m\u001b[39;49;00m\n",
       "\u001b[37m                \u001b[39;49;00m\u001b[94m\"photos\"\u001b[39;49;00m:\u001b[37m \u001b[39;49;00m\u001b[34m6\u001b[39;49;00m\u001b[37m\u001b[39;49;00m\n",
       "\u001b[37m            \u001b[39;49;00m},\u001b[37m\u001b[39;49;00m\n",
       "\u001b[37m            \u001b[39;49;00m\u001b[94m\"snippet\"\u001b[39;49;00m:\u001b[37m \u001b[39;49;00m\u001b[33m\"Worst service in canteen (upilli restaurant)..women staffs are good ..mens are worst .. In kids play area (in the park ) most of the things are broken ..not maintained well..\"\u001b[39;49;00m,\u001b[37m\u001b[39;49;00m\n",
       "\u001b[37m            \u001b[39;49;00m\u001b[94m\"extracted_snippet\"\u001b[39;49;00m:\u001b[37m \u001b[39;49;00m{\u001b[37m\u001b[39;49;00m\n",
       "\u001b[37m                \u001b[39;49;00m\u001b[94m\"original\"\u001b[39;49;00m:\u001b[37m \u001b[39;49;00m\u001b[33m\"Worst service in canteen (upilli restaurant)..women staffs are good ..mens are worst .. In kids play area (in the park ) most of the things are broken ..not maintained well..\"\u001b[39;49;00m\u001b[37m\u001b[39;49;00m\n",
       "\u001b[37m            \u001b[39;49;00m},\u001b[37m\u001b[39;49;00m\n",
       "\u001b[37m            \u001b[39;49;00m\u001b[94m\"details\"\u001b[39;49;00m:\u001b[37m \u001b[39;49;00m{\u001b[37m\u001b[39;49;00m\n",
       "\u001b[37m                \u001b[39;49;00m\u001b[94m\"trip_type\"\u001b[39;49;00m:\u001b[37m \u001b[39;49;00m\u001b[33m\"Vacation\"\u001b[39;49;00m,\u001b[37m\u001b[39;49;00m\n",
       "\u001b[37m                \u001b[39;49;00m\u001b[94m\"travel_group\"\u001b[39;49;00m:\u001b[37m \u001b[39;49;00m\u001b[33m\"Family\"\u001b[39;49;00m,\u001b[37m\u001b[39;49;00m\n",
       "\u001b[37m                \u001b[39;49;00m\u001b[94m\"rooms\"\u001b[39;49;00m:\u001b[37m \u001b[39;49;00m\u001b[34m4\u001b[39;49;00m,\u001b[37m\u001b[39;49;00m\n",
       "\u001b[37m                \u001b[39;49;00m\u001b[94m\"service\"\u001b[39;49;00m:\u001b[37m \u001b[39;49;00m\u001b[34m1\u001b[39;49;00m,\u001b[37m\u001b[39;49;00m\n",
       "\u001b[37m                \u001b[39;49;00m\u001b[94m\"location\"\u001b[39;49;00m:\u001b[37m \u001b[39;49;00m\u001b[34m3\u001b[39;49;00m\u001b[37m\u001b[39;49;00m\n",
       "\u001b[37m            \u001b[39;49;00m},\u001b[37m\u001b[39;49;00m\n",
       "\u001b[37m            \u001b[39;49;00m\u001b[94m\"likes\"\u001b[39;49;00m:\u001b[37m \u001b[39;49;00m\u001b[34m0\u001b[39;49;00m\u001b[37m\u001b[39;49;00m\n",
       "\u001b[37m        \u001b[39;49;00m},\u001b[37m\u001b[39;49;00m\n",
       "\u001b[37m        \u001b[39;49;00m{\u001b[37m\u001b[39;49;00m\n",
       "\u001b[37m            \u001b[39;49;00m\u001b[94m\"link\"\u001b[39;49;00m:\u001b[37m \u001b[39;49;00m\u001b[33m\"https://www.google.com/maps/reviews/data=!4m8!14m7!1m6!2m5!1sChdDSUhNMG9nS0VJQ0FnSURUcUphdGxRRRAB!2m1!1s0x0:0xf94ebd086715cabd!3m1!1s2@1:CIHM0ogKEICAgIDTqJatlQE%7CCgsImfa0sgYQuIDULA%7C?hl=en-US\"\u001b[39;49;00m,\u001b[37m\u001b[39;49;00m\n",
       "\u001b[37m            \u001b[39;49;00m\u001b[94m\"rating\"\u001b[39;49;00m:\u001b[37m \u001b[39;49;00m\u001b[34m5.0\u001b[39;49;00m,\u001b[37m\u001b[39;49;00m\n",
       "\u001b[37m            \u001b[39;49;00m\u001b[94m\"date\"\u001b[39;49;00m:\u001b[37m \u001b[39;49;00m\u001b[33m\"a day ago\"\u001b[39;49;00m,\u001b[37m\u001b[39;49;00m\n",
       "\u001b[37m            \u001b[39;49;00m\u001b[94m\"iso_date\"\u001b[39;49;00m:\u001b[37m \u001b[39;49;00m\u001b[33m\"2024-05-22T00:23:53Z\"\u001b[39;49;00m,\u001b[37m\u001b[39;49;00m\n",
       "\u001b[37m            \u001b[39;49;00m\u001b[94m\"iso_date_of_last_edit\"\u001b[39;49;00m:\u001b[37m \u001b[39;49;00m\u001b[33m\"2024-05-22T00:23:53Z\"\u001b[39;49;00m,\u001b[37m\u001b[39;49;00m\n",
       "\u001b[37m            \u001b[39;49;00m\u001b[94m\"source\"\u001b[39;49;00m:\u001b[37m \u001b[39;49;00m\u001b[33m\"Google\"\u001b[39;49;00m,\u001b[37m\u001b[39;49;00m\n",
       "\u001b[37m            \u001b[39;49;00m\u001b[94m\"review_id\"\u001b[39;49;00m:\u001b[37m \u001b[39;49;00m\u001b[33m\"ChdDSUhNMG9nS0VJQ0FnSURUcUphdGxRRRAB\"\u001b[39;49;00m,\u001b[37m\u001b[39;49;00m\n",
       "\u001b[37m            \u001b[39;49;00m\u001b[94m\"user\"\u001b[39;49;00m:\u001b[37m \u001b[39;49;00m{\u001b[37m\u001b[39;49;00m\n",
       "\u001b[37m                \u001b[39;49;00m\u001b[94m\"name\"\u001b[39;49;00m:\u001b[37m \u001b[39;49;00m\u001b[33m\"Neelakandan N\"\u001b[39;49;00m,\u001b[37m\u001b[39;49;00m\n",
       "\u001b[37m                \u001b[39;49;00m\u001b[94m\"link\"\u001b[39;49;00m:\u001b[37m \u001b[39;49;00m\u001b[33m\"https://www.google.com/maps/contrib/118090163370644882960?hl=en-US\"\u001b[39;49;00m,\u001b[37m\u001b[39;49;00m\n",
       "\u001b[37m                \u001b[39;49;00m\u001b[94m\"contributor_id\"\u001b[39;49;00m:\u001b[37m \u001b[39;49;00m\u001b[33m\"118090163370644882960\"\u001b[39;49;00m,\u001b[37m\u001b[39;49;00m\n",
       "\u001b[37m                \u001b[39;49;00m\u001b[94m\"thumbnail\"\u001b[39;49;00m:\u001b[37m \u001b[39;49;00m\u001b[33m\"https://lh3.googleusercontent.com/a-/ALV-UjXbjv9a7AN_JPr4-7BmzleAskGMIPLiWTrrf8KV7yw5JblPmCvZ=s120-c-rp-mo-ba4-br100\"\u001b[39;49;00m,\u001b[37m\u001b[39;49;00m\n",
       "\u001b[37m                \u001b[39;49;00m\u001b[94m\"local_guide\"\u001b[39;49;00m:\u001b[37m \u001b[39;49;00m\u001b[34mtrue\u001b[39;49;00m,\u001b[37m\u001b[39;49;00m\n",
       "\u001b[37m                \u001b[39;49;00m\u001b[94m\"reviews\"\u001b[39;49;00m:\u001b[37m \u001b[39;49;00m\u001b[34m57\u001b[39;49;00m,\u001b[37m\u001b[39;49;00m\n",
       "\u001b[37m                \u001b[39;49;00m\u001b[94m\"photos\"\u001b[39;49;00m:\u001b[37m \u001b[39;49;00m\u001b[34m43\u001b[39;49;00m\u001b[37m\u001b[39;49;00m\n",
       "\u001b[37m            \u001b[39;49;00m},\u001b[37m\u001b[39;49;00m\n",
       "\u001b[37m            \u001b[39;49;00m\u001b[94m\"snippet\"\u001b[39;49;00m:\u001b[37m \u001b[39;49;00m\u001b[33m\"Stayed with our family in this hotel. Rooms are cleanly maintained. Vegetarian Food available, Quiet and great atmosphere and Kid friendly.\"\u001b[39;49;00m,\u001b[37m\u001b[39;49;00m\n",
       "\u001b[37m            \u001b[39;49;00m\u001b[94m\"extracted_snippet\"\u001b[39;49;00m:\u001b[37m \u001b[39;49;00m{\u001b[37m\u001b[39;49;00m\n",
       "\u001b[37m                \u001b[39;49;00m\u001b[94m\"original\"\u001b[39;49;00m:\u001b[37m \u001b[39;49;00m\u001b[33m\"Stayed with our family in this hotel. Rooms are cleanly maintained. Vegetarian Food available, Quiet and great atmosphere and Kid friendly.\"\u001b[39;49;00m\u001b[37m\u001b[39;49;00m\n",
       "\u001b[37m            \u001b[39;49;00m},\u001b[37m\u001b[39;49;00m\n",
       "\u001b[37m            \u001b[39;49;00m\u001b[94m\"details\"\u001b[39;49;00m:\u001b[37m \u001b[39;49;00m{\u001b[37m\u001b[39;49;00m\n",
       "\u001b[37m                \u001b[39;49;00m\u001b[94m\"trip_type\"\u001b[39;49;00m:\u001b[37m \u001b[39;49;00m\u001b[33m\"Vacation\"\u001b[39;49;00m,\u001b[37m\u001b[39;49;00m\n",
       "\u001b[37m                \u001b[39;49;00m\u001b[94m\"travel_group\"\u001b[39;49;00m:\u001b[37m \u001b[39;49;00m\u001b[33m\"Family\"\u001b[39;49;00m,\u001b[37m\u001b[39;49;00m\n",
       "\u001b[37m                \u001b[39;49;00m\u001b[94m\"rooms\"\u001b[39;49;00m:\u001b[37m \u001b[39;49;00m\u001b[34m5\u001b[39;49;00m,\u001b[37m\u001b[39;49;00m\n",
       "\u001b[37m                \u001b[39;49;00m\u001b[94m\"service\"\u001b[39;49;00m:\u001b[37m \u001b[39;49;00m\u001b[34m4\u001b[39;49;00m,\u001b[37m\u001b[39;49;00m\n",
       "\u001b[37m                \u001b[39;49;00m\u001b[94m\"location\"\u001b[39;49;00m:\u001b[37m \u001b[39;49;00m\u001b[34m5\u001b[39;49;00m,\u001b[37m\u001b[39;49;00m\n",
       "\u001b[37m                \u001b[39;49;00m\u001b[94m\"hotel_highlights\"\u001b[39;49;00m:\u001b[37m \u001b[39;49;00m\u001b[33m\"Great view, Quiet, Kid-friendly, Great value\"\u001b[39;49;00m\u001b[37m\u001b[39;49;00m\n",
       "\u001b[37m            \u001b[39;49;00m},\u001b[37m\u001b[39;49;00m\n",
       "\u001b[37m            \u001b[39;49;00m\u001b[94m\"likes\"\u001b[39;49;00m:\u001b[37m \u001b[39;49;00m\u001b[34m0\u001b[39;49;00m,\u001b[37m\u001b[39;49;00m\n",
       "\u001b[37m            \u001b[39;49;00m\u001b[94m\"response\"\u001b[39;49;00m:\u001b[37m \u001b[39;49;00m{\u001b[37m\u001b[39;49;00m\n",
       "\u001b[37m                \u001b[39;49;00m\u001b[94m\"date\"\u001b[39;49;00m:\u001b[37m \u001b[39;49;00m\u001b[33m\"a day ago\"\u001b[39;49;00m,\u001b[37m\u001b[39;49;00m\n",
       "\u001b[37m                \u001b[39;49;00m\u001b[94m\"iso_date\"\u001b[39;49;00m:\u001b[37m \u001b[39;49;00m\u001b[33m\"2024-05-22T05:13:56Z\"\u001b[39;49;00m,\u001b[37m\u001b[39;49;00m\n",
       "\u001b[37m                \u001b[39;49;00m\u001b[94m\"iso_date_of_last_edit\"\u001b[39;49;00m:\u001b[37m \u001b[39;49;00m\u001b[33m\"2024-05-22T05:13:56Z\"\u001b[39;49;00m,\u001b[37m\u001b[39;49;00m\n",
       "\u001b[37m                \u001b[39;49;00m\u001b[94m\"snippet\"\u001b[39;49;00m:\u001b[37m \u001b[39;49;00m\u001b[33m\"Dear Mr.Neelakandan,\\nThanks for rating us well, we thank you for stay with us. We are happy that you had a comfortable stay with us. Looking forward to your visit again.\\nWith Regards,\\nTeam Sadhabishegam.\\n\"\u001b[39;49;00m,\u001b[37m\u001b[39;49;00m\n",
       "\u001b[37m                \u001b[39;49;00m\u001b[94m\"extracted_snippet\"\u001b[39;49;00m:\u001b[37m \u001b[39;49;00m{\u001b[37m\u001b[39;49;00m\n",
       "\u001b[37m                    \u001b[39;49;00m\u001b[94m\"original\"\u001b[39;49;00m:\u001b[37m \u001b[39;49;00m\u001b[33m\"Dear Mr.Neelakandan,\\nThanks for rating us well, we thank you for stay with us. We are happy that you had a comfortable stay with us. Looking forward to your visit again.\\nWith Regards,\\nTeam Sadhabishegam.\\n\"\u001b[39;49;00m\u001b[37m\u001b[39;49;00m\n",
       "\u001b[37m                \u001b[39;49;00m}\u001b[37m\u001b[39;49;00m\n",
       "\u001b[37m            \u001b[39;49;00m}\u001b[37m\u001b[39;49;00m\n",
       "\u001b[37m        \u001b[39;49;00m},\u001b[37m\u001b[39;49;00m\n",
       "\u001b[37m        \u001b[39;49;00m{\u001b[37m\u001b[39;49;00m\n",
       "\u001b[37m            \u001b[39;49;00m\u001b[94m\"link\"\u001b[39;49;00m:\u001b[37m \u001b[39;49;00m\u001b[33m\"https://www.google.com/maps/reviews/data=!4m8!14m7!1m6!2m5!1sChdDSUhNMG9nS0VJQ0FnSUNUNmNLRHF3RRAB!2m1!1s0x0:0xf94ebd086715cabd!3m1!1s2@1:CIHM0ogKEICAgICT6cKDqwE%7CCgwIkpOYsgYQiNqhlgE%7C?hl=en-US\"\u001b[39;49;00m,\u001b[37m\u001b[39;49;00m\n",
       "\u001b[37m            \u001b[39;49;00m\u001b[94m\"rating\"\u001b[39;49;00m:\u001b[37m \u001b[39;49;00m\u001b[34m4.0\u001b[39;49;00m,\u001b[37m\u001b[39;49;00m\n",
       "\u001b[37m            \u001b[39;49;00m\u001b[94m\"date\"\u001b[39;49;00m:\u001b[37m \u001b[39;49;00m\u001b[33m\"6 days ago\"\u001b[39;49;00m,\u001b[37m\u001b[39;49;00m\n",
       "\u001b[37m            \u001b[39;49;00m\u001b[94m\"iso_date\"\u001b[39;49;00m:\u001b[37m \u001b[39;49;00m\u001b[33m\"2024-05-16T13:26:42Z\"\u001b[39;49;00m,\u001b[37m\u001b[39;49;00m\n",
       "\u001b[37m            \u001b[39;49;00m\u001b[94m\"iso_date_of_last_edit\"\u001b[39;49;00m:\u001b[37m \u001b[39;49;00m\u001b[33m\"2024-05-16T13:26:42Z\"\u001b[39;49;00m,\u001b[37m\u001b[39;49;00m\n",
       "\u001b[37m            \u001b[39;49;00m\u001b[94m\"source\"\u001b[39;49;00m:\u001b[37m \u001b[39;49;00m\u001b[33m\"Google\"\u001b[39;49;00m,\u001b[37m\u001b[39;49;00m\n",
       "\u001b[37m            \u001b[39;49;00m\u001b[94m\"review_id\"\u001b[39;49;00m:\u001b[37m \u001b[39;49;00m\u001b[33m\"ChdDSUhNMG9nS0VJQ0FnSUNUNmNLRHF3RRAB\"\u001b[39;49;00m,\u001b[37m\u001b[39;49;00m\n",
       "\u001b[37m            \u001b[39;49;00m\u001b[94m\"user\"\u001b[39;49;00m:\u001b[37m \u001b[39;49;00m{\u001b[37m\u001b[39;49;00m\n",
       "\u001b[37m                \u001b[39;49;00m\u001b[94m\"name\"\u001b[39;49;00m:\u001b[37m \u001b[39;49;00m\u001b[33m\"dineshkumar R\"\u001b[39;49;00m,\u001b[37m\u001b[39;49;00m\n",
       "\u001b[37m                \u001b[39;49;00m\u001b[94m\"link\"\u001b[39;49;00m:\u001b[37m \u001b[39;49;00m\u001b[33m\"https://www.google.com/maps/contrib/106578160945732107259?hl=en-US\"\u001b[39;49;00m,\u001b[37m\u001b[39;49;00m\n",
       "\u001b[37m                \u001b[39;49;00m\u001b[94m\"contributor_id\"\u001b[39;49;00m:\u001b[37m \u001b[39;49;00m\u001b[33m\"106578160945732107259\"\u001b[39;49;00m,\u001b[37m\u001b[39;49;00m\n",
       "\u001b[37m                \u001b[39;49;00m\u001b[94m\"thumbnail\"\u001b[39;49;00m:\u001b[37m \u001b[39;49;00m\u001b[33m\"https://lh3.googleusercontent.com/a-/ALV-UjXv1DdyOPk4CF4Y7P_ZAaw1WowC8PwZCpX3CevxJ9uSu0AprJeC=s120-c-rp-mo-br100\"\u001b[39;49;00m,\u001b[37m\u001b[39;49;00m\n",
       "\u001b[37m                \u001b[39;49;00m\u001b[94m\"reviews\"\u001b[39;49;00m:\u001b[37m \u001b[39;49;00m\u001b[34m4\u001b[39;49;00m,\u001b[37m\u001b[39;49;00m\n",
       "\u001b[37m                \u001b[39;49;00m\u001b[94m\"photos\"\u001b[39;49;00m:\u001b[37m \u001b[39;49;00m\u001b[34m0\u001b[39;49;00m\u001b[37m\u001b[39;49;00m\n",
       "\u001b[37m            \u001b[39;49;00m},\u001b[37m\u001b[39;49;00m\n",
       "\u001b[37m            \u001b[39;49;00m\u001b[94m\"snippet\"\u001b[39;49;00m:\u001b[37m \u001b[39;49;00m\u001b[33m\"Good feel to sleep. Clean and good food\"\u001b[39;49;00m,\u001b[37m\u001b[39;49;00m\n",
       "\u001b[37m            \u001b[39;49;00m\u001b[94m\"extracted_snippet\"\u001b[39;49;00m:\u001b[37m \u001b[39;49;00m{\u001b[37m\u001b[39;49;00m\n",
       "\u001b[37m                \u001b[39;49;00m\u001b[94m\"original\"\u001b[39;49;00m:\u001b[37m \u001b[39;49;00m\u001b[33m\"Good feel to sleep. Clean and good food\"\u001b[39;49;00m\u001b[37m\u001b[39;49;00m\n",
       "\u001b[37m            \u001b[39;49;00m},\u001b[37m\u001b[39;49;00m\n",
       "\u001b[37m            \u001b[39;49;00m\u001b[94m\"details\"\u001b[39;49;00m:\u001b[37m \u001b[39;49;00m{\u001b[37m\u001b[39;49;00m\n",
       "\u001b[37m                \u001b[39;49;00m\u001b[94m\"trip_type\"\u001b[39;49;00m:\u001b[37m \u001b[39;49;00m\u001b[33m\"Vacation\"\u001b[39;49;00m,\u001b[37m\u001b[39;49;00m\n",
       "\u001b[37m                \u001b[39;49;00m\u001b[94m\"travel_group\"\u001b[39;49;00m:\u001b[37m \u001b[39;49;00m\u001b[33m\"Couple\"\u001b[39;49;00m,\u001b[37m\u001b[39;49;00m\n",
       "\u001b[37m                \u001b[39;49;00m\u001b[94m\"rooms\"\u001b[39;49;00m:\u001b[37m \u001b[39;49;00m\u001b[34m4\u001b[39;49;00m,\u001b[37m\u001b[39;49;00m\n",
       "\u001b[37m                \u001b[39;49;00m\u001b[94m\"service\"\u001b[39;49;00m:\u001b[37m \u001b[39;49;00m\u001b[34m4\u001b[39;49;00m,\u001b[37m\u001b[39;49;00m\n",
       "\u001b[37m                \u001b[39;49;00m\u001b[94m\"location\"\u001b[39;49;00m:\u001b[37m \u001b[39;49;00m\u001b[34m4\u001b[39;49;00m,\u001b[37m\u001b[39;49;00m\n",
       "\u001b[37m                \u001b[39;49;00m\u001b[94m\"hotel_highlights\"\u001b[39;49;00m:\u001b[37m \u001b[39;49;00m\u001b[33m\"Great view\"\u001b[39;49;00m\u001b[37m\u001b[39;49;00m\n",
       "\u001b[37m            \u001b[39;49;00m},\u001b[37m\u001b[39;49;00m\n",
       "\u001b[37m            \u001b[39;49;00m\u001b[94m\"likes\"\u001b[39;49;00m:\u001b[37m \u001b[39;49;00m\u001b[34m0\u001b[39;49;00m,\u001b[37m\u001b[39;49;00m\n",
       "\u001b[37m            \u001b[39;49;00m\u001b[94m\"response\"\u001b[39;49;00m:\u001b[37m \u001b[39;49;00m{\u001b[37m\u001b[39;49;00m\n",
       "\u001b[37m                \u001b[39;49;00m\u001b[94m\"date\"\u001b[39;49;00m:\u001b[37m \u001b[39;49;00m\u001b[33m\"6 days ago\"\u001b[39;49;00m,\u001b[37m\u001b[39;49;00m\n",
       "\u001b[37m                \u001b[39;49;00m\u001b[94m\"iso_date\"\u001b[39;49;00m:\u001b[37m \u001b[39;49;00m\u001b[33m\"2024-05-17T05:01:02Z\"\u001b[39;49;00m,\u001b[37m\u001b[39;49;00m\n",
       "\u001b[37m                \u001b[39;49;00m\u001b[94m\"iso_date_of_last_edit\"\u001b[39;49;00m:\u001b[37m \u001b[39;49;00m\u001b[33m\"2024-05-17T05:01:02Z\"\u001b[39;49;00m,\u001b[37m\u001b[39;49;00m\n",
       "\u001b[37m                \u001b[39;49;00m\u001b[94m\"snippet\"\u001b[39;49;00m:\u001b[37m \u001b[39;49;00m\u001b[33m\"Dear Mr.Dineshkumar,\\nThanks for rating us well, we thank you for stay with us. We are happy that you had a comfortable stay with us. Looking forward to your visit again.\\nWith Regards,\\nTeam Sadhabishegam.\"\u001b[39;49;00m,\u001b[37m\u001b[39;49;00m\n",
       "\u001b[37m                \u001b[39;49;00m\u001b[94m\"extracted_snippet\"\u001b[39;49;00m:\u001b[37m \u001b[39;49;00m{\u001b[37m\u001b[39;49;00m\n",
       "\u001b[37m                    \u001b[39;49;00m\u001b[94m\"original\"\u001b[39;49;00m:\u001b[37m \u001b[39;49;00m\u001b[33m\"Dear Mr.Dineshkumar,\\nThanks for rating us well, we thank you for stay with us. We are happy that you had a comfortable stay with us. Looking forward to your visit again.\\nWith Regards,\\nTeam Sadhabishegam.\"\u001b[39;49;00m\u001b[37m\u001b[39;49;00m\n",
       "\u001b[37m                \u001b[39;49;00m}\u001b[37m\u001b[39;49;00m\n",
       "\u001b[37m            \u001b[39;49;00m}\u001b[37m\u001b[39;49;00m\n",
       "\u001b[37m        \u001b[39;49;00m},\u001b[37m\u001b[39;49;00m\n",
       "\u001b[37m        \u001b[39;49;00m{\u001b[37m\u001b[39;49;00m\n",
       "\u001b[37m            \u001b[39;49;00m\u001b[94m\"link\"\u001b[39;49;00m:\u001b[37m \u001b[39;49;00m\u001b[33m\"https://www.google.com/maps/reviews/data=!4m8!14m7!1m6!2m5!1sChZDSUhNMG9nS0VJQ0FnSUNUZ1phd2NnEAE!2m1!1s0x0:0xf94ebd086715cabd!3m1!1s2@1:CIHM0ogKEICAgICTgZawcg%7CCgwI6NySsgYQgODm9wE%7C?hl=en-US\"\u001b[39;49;00m,\u001b[37m\u001b[39;49;00m\n",
       "\u001b[37m            \u001b[39;49;00m\u001b[94m\"rating\"\u001b[39;49;00m:\u001b[37m \u001b[39;49;00m\u001b[34m5.0\u001b[39;49;00m,\u001b[37m\u001b[39;49;00m\n",
       "\u001b[37m            \u001b[39;49;00m\u001b[94m\"date\"\u001b[39;49;00m:\u001b[37m \u001b[39;49;00m\u001b[33m\"a week ago\"\u001b[39;49;00m,\u001b[37m\u001b[39;49;00m\n",
       "\u001b[37m            \u001b[39;49;00m\u001b[94m\"iso_date\"\u001b[39;49;00m:\u001b[37m \u001b[39;49;00m\u001b[33m\"2024-05-15T12:45:28Z\"\u001b[39;49;00m,\u001b[37m\u001b[39;49;00m\n",
       "\u001b[37m            \u001b[39;49;00m\u001b[94m\"iso_date_of_last_edit\"\u001b[39;49;00m:\u001b[37m \u001b[39;49;00m\u001b[33m\"2024-05-15T12:45:28Z\"\u001b[39;49;00m,\u001b[37m\u001b[39;49;00m\n",
       "\u001b[37m            \u001b[39;49;00m\u001b[94m\"source\"\u001b[39;49;00m:\u001b[37m \u001b[39;49;00m\u001b[33m\"Google\"\u001b[39;49;00m,\u001b[37m\u001b[39;49;00m\n",
       "\u001b[37m            \u001b[39;49;00m\u001b[94m\"review_id\"\u001b[39;49;00m:\u001b[37m \u001b[39;49;00m\u001b[33m\"ChZDSUhNMG9nS0VJQ0FnSUNUZ1phd2NnEAE\"\u001b[39;49;00m,\u001b[37m\u001b[39;49;00m\n",
       "\u001b[37m            \u001b[39;49;00m\u001b[94m\"user\"\u001b[39;49;00m:\u001b[37m \u001b[39;49;00m{\u001b[37m\u001b[39;49;00m\n",
       "\u001b[37m                \u001b[39;49;00m\u001b[94m\"name\"\u001b[39;49;00m:\u001b[37m \u001b[39;49;00m\u001b[33m\"Chandramouli Subramanian\"\u001b[39;49;00m,\u001b[37m\u001b[39;49;00m\n",
       "\u001b[37m                \u001b[39;49;00m\u001b[94m\"link\"\u001b[39;49;00m:\u001b[37m \u001b[39;49;00m\u001b[33m\"https://www.google.com/maps/contrib/108205711934757999489?hl=en-US\"\u001b[39;49;00m,\u001b[37m\u001b[39;49;00m\n",
       "\u001b[37m                \u001b[39;49;00m\u001b[94m\"contributor_id\"\u001b[39;49;00m:\u001b[37m \u001b[39;49;00m\u001b[33m\"108205711934757999489\"\u001b[39;49;00m,\u001b[37m\u001b[39;49;00m\n",
       "\u001b[37m                \u001b[39;49;00m\u001b[94m\"thumbnail\"\u001b[39;49;00m:\u001b[37m \u001b[39;49;00m\u001b[33m\"https://lh3.googleusercontent.com/a-/ALV-UjUGmXVRKkSqQJufLdvza3Flir-Cej8-_-bYJAe2I6VQUSgDQNDs=s120-c-rp-mo-ba4-br100\"\u001b[39;49;00m,\u001b[37m\u001b[39;49;00m\n",
       "\u001b[37m                \u001b[39;49;00m\u001b[94m\"local_guide\"\u001b[39;49;00m:\u001b[37m \u001b[39;49;00m\u001b[34mtrue\u001b[39;49;00m,\u001b[37m\u001b[39;49;00m\n",
       "\u001b[37m                \u001b[39;49;00m\u001b[94m\"reviews\"\u001b[39;49;00m:\u001b[37m \u001b[39;49;00m\u001b[34m74\u001b[39;49;00m,\u001b[37m\u001b[39;49;00m\n",
       "\u001b[37m                \u001b[39;49;00m\u001b[94m\"photos\"\u001b[39;49;00m:\u001b[37m \u001b[39;49;00m\u001b[34m10\u001b[39;49;00m\u001b[37m\u001b[39;49;00m\n",
       "\u001b[37m            \u001b[39;49;00m},\u001b[37m\u001b[39;49;00m\n",
       "\u001b[37m            \u001b[39;49;00m\u001b[94m\"snippet\"\u001b[39;49;00m:\u001b[37m \u001b[39;49;00m\u001b[33m\"Had a tasteful lunch\"\u001b[39;49;00m,\u001b[37m\u001b[39;49;00m\n",
       "\u001b[37m            \u001b[39;49;00m\u001b[94m\"extracted_snippet\"\u001b[39;49;00m:\u001b[37m \u001b[39;49;00m{\u001b[37m\u001b[39;49;00m\n",
       "\u001b[37m                \u001b[39;49;00m\u001b[94m\"original\"\u001b[39;49;00m:\u001b[37m \u001b[39;49;00m\u001b[33m\"Had a tasteful lunch\"\u001b[39;49;00m\u001b[37m\u001b[39;49;00m\n",
       "\u001b[37m            \u001b[39;49;00m},\u001b[37m\u001b[39;49;00m\n",
       "\u001b[37m            \u001b[39;49;00m\u001b[94m\"details\"\u001b[39;49;00m:\u001b[37m \u001b[39;49;00m{\u001b[37m\u001b[39;49;00m\n",
       "\u001b[37m                \u001b[39;49;00m\u001b[94m\"service\"\u001b[39;49;00m:\u001b[37m \u001b[39;49;00m\u001b[34m5\u001b[39;49;00m,\u001b[37m\u001b[39;49;00m\n",
       "\u001b[37m                \u001b[39;49;00m\u001b[94m\"location\"\u001b[39;49;00m:\u001b[37m \u001b[39;49;00m\u001b[34m5\u001b[39;49;00m\u001b[37m\u001b[39;49;00m\n",
       "\u001b[37m            \u001b[39;49;00m},\u001b[37m\u001b[39;49;00m\n",
       "\u001b[37m            \u001b[39;49;00m\u001b[94m\"likes\"\u001b[39;49;00m:\u001b[37m \u001b[39;49;00m\u001b[34m0\u001b[39;49;00m,\u001b[37m\u001b[39;49;00m\n",
       "\u001b[37m            \u001b[39;49;00m\u001b[94m\"response\"\u001b[39;49;00m:\u001b[37m \u001b[39;49;00m{\u001b[37m\u001b[39;49;00m\n",
       "\u001b[37m                \u001b[39;49;00m\u001b[94m\"date\"\u001b[39;49;00m:\u001b[37m \u001b[39;49;00m\u001b[33m\"a week ago\"\u001b[39;49;00m,\u001b[37m\u001b[39;49;00m\n",
       "\u001b[37m                \u001b[39;49;00m\u001b[94m\"iso_date\"\u001b[39;49;00m:\u001b[37m \u001b[39;49;00m\u001b[33m\"2024-05-16T05:26:31Z\"\u001b[39;49;00m,\u001b[37m\u001b[39;49;00m\n",
       "\u001b[37m                \u001b[39;49;00m\u001b[94m\"iso_date_of_last_edit\"\u001b[39;49;00m:\u001b[37m \u001b[39;49;00m\u001b[33m\"2024-05-16T05:26:31Z\"\u001b[39;49;00m,\u001b[37m\u001b[39;49;00m\n",
       "\u001b[37m                \u001b[39;49;00m\u001b[94m\"snippet\"\u001b[39;49;00m:\u001b[37m \u001b[39;49;00m\u001b[33m\"Dear Mr.Chandramouli,\\nThanks for rating us well, we thank you for stay with us. We are happy that you had a comfortable stay with us. Looking forward to your visit again.\\nWith Regards,\\nTeam Sadhabishegam.\"\u001b[39;49;00m,\u001b[37m\u001b[39;49;00m\n",
       "\u001b[37m                \u001b[39;49;00m\u001b[94m\"extracted_snippet\"\u001b[39;49;00m:\u001b[37m \u001b[39;49;00m{\u001b[37m\u001b[39;49;00m\n",
       "\u001b[37m                    \u001b[39;49;00m\u001b[94m\"original\"\u001b[39;49;00m:\u001b[37m \u001b[39;49;00m\u001b[33m\"Dear Mr.Chandramouli,\\nThanks for rating us well, we thank you for stay with us. We are happy that you had a comfortable stay with us. Looking forward to your visit again.\\nWith Regards,\\nTeam Sadhabishegam.\"\u001b[39;49;00m\u001b[37m\u001b[39;49;00m\n",
       "\u001b[37m                \u001b[39;49;00m}\u001b[37m\u001b[39;49;00m\n",
       "\u001b[37m            \u001b[39;49;00m}\u001b[37m\u001b[39;49;00m\n",
       "\u001b[37m        \u001b[39;49;00m},\u001b[37m\u001b[39;49;00m\n",
       "\u001b[37m        \u001b[39;49;00m{\u001b[37m\u001b[39;49;00m\n",
       "\u001b[37m            \u001b[39;49;00m\u001b[94m\"link\"\u001b[39;49;00m:\u001b[37m \u001b[39;49;00m\u001b[33m\"https://www.google.com/maps/reviews/data=!4m8!14m7!1m6!2m5!1sChZDSUhNMG9nS0VJQ0FnSUNUM3BDOU53EAE!2m1!1s0x0:0xf94ebd086715cabd!3m1!1s2@1:CIHM0ogKEICAgICT3pC9Nw%7CCgwI5qORsgYQgIn8pgE%7C?hl=en-US\"\u001b[39;49;00m,\u001b[37m\u001b[39;49;00m\n",
       "\u001b[37m            \u001b[39;49;00m\u001b[94m\"rating\"\u001b[39;49;00m:\u001b[37m \u001b[39;49;00m\u001b[34m5.0\u001b[39;49;00m,\u001b[37m\u001b[39;49;00m\n",
       "\u001b[37m            \u001b[39;49;00m\u001b[94m\"date\"\u001b[39;49;00m:\u001b[37m \u001b[39;49;00m\u001b[33m\"a week ago\"\u001b[39;49;00m,\u001b[37m\u001b[39;49;00m\n",
       "\u001b[37m            \u001b[39;49;00m\u001b[94m\"iso_date\"\u001b[39;49;00m:\u001b[37m \u001b[39;49;00m\u001b[33m\"2024-05-15T06:10:46Z\"\u001b[39;49;00m,\u001b[37m\u001b[39;49;00m\n",
       "\u001b[37m            \u001b[39;49;00m\u001b[94m\"iso_date_of_last_edit\"\u001b[39;49;00m:\u001b[37m \u001b[39;49;00m\u001b[33m\"2024-05-15T06:10:46Z\"\u001b[39;49;00m,\u001b[37m\u001b[39;49;00m\n",
       "\u001b[37m            \u001b[39;49;00m\u001b[94m\"source\"\u001b[39;49;00m:\u001b[37m \u001b[39;49;00m\u001b[33m\"Google\"\u001b[39;49;00m,\u001b[37m\u001b[39;49;00m\n",
       "\u001b[37m            \u001b[39;49;00m\u001b[94m\"review_id\"\u001b[39;49;00m:\u001b[37m \u001b[39;49;00m\u001b[33m\"ChZDSUhNMG9nS0VJQ0FnSUNUM3BDOU53EAE\"\u001b[39;49;00m,\u001b[37m\u001b[39;49;00m\n",
       "\u001b[37m            \u001b[39;49;00m\u001b[94m\"user\"\u001b[39;49;00m:\u001b[37m \u001b[39;49;00m{\u001b[37m\u001b[39;49;00m\n",
       "\u001b[37m                \u001b[39;49;00m\u001b[94m\"name\"\u001b[39;49;00m:\u001b[37m \u001b[39;49;00m\u001b[33m\"Ragavendran Chandran\"\u001b[39;49;00m,\u001b[37m\u001b[39;49;00m\n",
       "\u001b[37m                \u001b[39;49;00m\u001b[94m\"link\"\u001b[39;49;00m:\u001b[37m \u001b[39;49;00m\u001b[33m\"https://www.google.com/maps/contrib/109416503144100418241?hl=en-US\"\u001b[39;49;00m,\u001b[37m\u001b[39;49;00m\n",
       "\u001b[37m                \u001b[39;49;00m\u001b[94m\"contributor_id\"\u001b[39;49;00m:\u001b[37m \u001b[39;49;00m\u001b[33m\"109416503144100418241\"\u001b[39;49;00m,\u001b[37m\u001b[39;49;00m\n",
       "\u001b[37m                \u001b[39;49;00m\u001b[94m\"thumbnail\"\u001b[39;49;00m:\u001b[37m \u001b[39;49;00m\u001b[33m\"https://lh3.googleusercontent.com/a-/ALV-UjU-NL07TfUdDp3TIWexWpPawufOYyXoW9gGPVxiMYdMhgp4lq1XLQ=s120-c-rp-mo-ba6-br100\"\u001b[39;49;00m,\u001b[37m\u001b[39;49;00m\n",
       "\u001b[37m                \u001b[39;49;00m\u001b[94m\"local_guide\"\u001b[39;49;00m:\u001b[37m \u001b[39;49;00m\u001b[34mtrue\u001b[39;49;00m,\u001b[37m\u001b[39;49;00m\n",
       "\u001b[37m                \u001b[39;49;00m\u001b[94m\"reviews\"\u001b[39;49;00m:\u001b[37m \u001b[39;49;00m\u001b[34m139\u001b[39;49;00m,\u001b[37m\u001b[39;49;00m\n",
       "\u001b[37m                \u001b[39;49;00m\u001b[94m\"photos\"\u001b[39;49;00m:\u001b[37m \u001b[39;49;00m\u001b[34m2549\u001b[39;49;00m\u001b[37m\u001b[39;49;00m\n",
       "\u001b[37m            \u001b[39;49;00m},\u001b[37m\u001b[39;49;00m\n",
       "\u001b[37m            \u001b[39;49;00m\u001b[94m\"snippet\"\u001b[39;49;00m:\u001b[37m \u001b[39;49;00m\u001b[33m\"It is one of the best hotel near by Vaitheeswaran temple devotees\"\u001b[39;49;00m,\u001b[37m\u001b[39;49;00m\n",
       "\u001b[37m            \u001b[39;49;00m\u001b[94m\"extracted_snippet\"\u001b[39;49;00m:\u001b[37m \u001b[39;49;00m{\u001b[37m\u001b[39;49;00m\n",
       "\u001b[37m                \u001b[39;49;00m\u001b[94m\"original\"\u001b[39;49;00m:\u001b[37m \u001b[39;49;00m\u001b[33m\"It is one of the best hotel near by Vaitheeswaran temple devotees\"\u001b[39;49;00m\u001b[37m\u001b[39;49;00m\n",
       "\u001b[37m            \u001b[39;49;00m},\u001b[37m\u001b[39;49;00m\n",
       "\u001b[37m            \u001b[39;49;00m\u001b[94m\"details\"\u001b[39;49;00m:\u001b[37m \u001b[39;49;00m{\u001b[37m\u001b[39;49;00m\n",
       "\u001b[37m                \u001b[39;49;00m\u001b[94m\"trip_type\"\u001b[39;49;00m:\u001b[37m \u001b[39;49;00m\u001b[33m\"Vacation\"\u001b[39;49;00m,\u001b[37m\u001b[39;49;00m\n",
       "\u001b[37m                \u001b[39;49;00m\u001b[94m\"travel_group\"\u001b[39;49;00m:\u001b[37m \u001b[39;49;00m\u001b[33m\"Family\"\u001b[39;49;00m,\u001b[37m\u001b[39;49;00m\n",
       "\u001b[37m                \u001b[39;49;00m\u001b[94m\"rooms\"\u001b[39;49;00m:\u001b[37m \u001b[39;49;00m\u001b[33m\"Rooms is very well maintained and it is very spacious for two people\"\u001b[39;49;00m,\u001b[37m\u001b[39;49;00m\n",
       "\u001b[37m                \u001b[39;49;00m\u001b[94m\"service\"\u001b[39;49;00m:\u001b[37m \u001b[39;49;00m\u001b[34m5\u001b[39;49;00m,\u001b[37m\u001b[39;49;00m\n",
       "\u001b[37m                \u001b[39;49;00m\u001b[94m\"location\"\u001b[39;49;00m:\u001b[37m \u001b[39;49;00m\u001b[34m5\u001b[39;49;00m,\u001b[37m\u001b[39;49;00m\n",
       "\u001b[37m                \u001b[39;49;00m\u001b[94m\"nearby_activities\"\u001b[39;49;00m:\u001b[37m \u001b[39;49;00m\u001b[33m\"It is nearby the temple Vaitheeswaran. Bus stop is nearby to local place and as well as the out of station\"\u001b[39;49;00m,\u001b[37m\u001b[39;49;00m\n",
       "\u001b[37m                \u001b[39;49;00m\u001b[94m\"food_drinks\"\u001b[39;49;00m:\u001b[37m \u001b[39;49;00m\u001b[33m\"Food and drinks in the restaurant is very good\"\u001b[39;49;00m,\u001b[37m\u001b[39;49;00m\n",
       "\u001b[37m                \u001b[39;49;00m\u001b[94m\"hotel_highlights\"\u001b[39;49;00m:\u001b[37m \u001b[39;49;00m\u001b[33m\"Great value\"\u001b[39;49;00m\u001b[37m\u001b[39;49;00m\n",
       "\u001b[37m            \u001b[39;49;00m},\u001b[37m\u001b[39;49;00m\n",
       "\u001b[37m            \u001b[39;49;00m\u001b[94m\"likes\"\u001b[39;49;00m:\u001b[37m \u001b[39;49;00m\u001b[34m0\u001b[39;49;00m,\u001b[37m\u001b[39;49;00m\n",
       "\u001b[37m            \u001b[39;49;00m\u001b[94m\"response\"\u001b[39;49;00m:\u001b[37m \u001b[39;49;00m{\u001b[37m\u001b[39;49;00m\n",
       "\u001b[37m                \u001b[39;49;00m\u001b[94m\"date\"\u001b[39;49;00m:\u001b[37m \u001b[39;49;00m\u001b[33m\"a week ago\"\u001b[39;49;00m,\u001b[37m\u001b[39;49;00m\n",
       "\u001b[37m                \u001b[39;49;00m\u001b[94m\"iso_date\"\u001b[39;49;00m:\u001b[37m \u001b[39;49;00m\u001b[33m\"2024-05-16T05:25:31Z\"\u001b[39;49;00m,\u001b[37m\u001b[39;49;00m\n",
       "\u001b[37m                \u001b[39;49;00m\u001b[94m\"iso_date_of_last_edit\"\u001b[39;49;00m:\u001b[37m \u001b[39;49;00m\u001b[33m\"2024-05-16T05:25:31Z\"\u001b[39;49;00m,\u001b[37m\u001b[39;49;00m\n",
       "\u001b[37m                \u001b[39;49;00m\u001b[94m\"snippet\"\u001b[39;49;00m:\u001b[37m \u001b[39;49;00m\u001b[33m\"Dear Mr.Ragavendran Chandran,\\nThanks for rating us well, we thank you for stay with us. We are happy that you had a comfortable stay with us. Looking forward to your visit again.\\nWith Regards,\\nTeam Sadhabishegam.\"\u001b[39;49;00m,\u001b[37m\u001b[39;49;00m\n",
       "\u001b[37m                \u001b[39;49;00m\u001b[94m\"extracted_snippet\"\u001b[39;49;00m:\u001b[37m \u001b[39;49;00m{\u001b[37m\u001b[39;49;00m\n",
       "\u001b[37m                    \u001b[39;49;00m\u001b[94m\"original\"\u001b[39;49;00m:\u001b[37m \u001b[39;49;00m\u001b[33m\"Dear Mr.Ragavendran Chandran,\\nThanks for rating us well, we thank you for stay with us. We are happy that you had a comfortable stay with us. Looking forward to your visit again.\\nWith Regards,\\nTeam Sadhabishegam.\"\u001b[39;49;00m\u001b[37m\u001b[39;49;00m\n",
       "\u001b[37m                \u001b[39;49;00m}\u001b[37m\u001b[39;49;00m\n",
       "\u001b[37m            \u001b[39;49;00m}\u001b[37m\u001b[39;49;00m\n",
       "\u001b[37m        \u001b[39;49;00m},\u001b[37m\u001b[39;49;00m\n",
       "\u001b[37m        \u001b[39;49;00m{\u001b[37m\u001b[39;49;00m\n",
       "\u001b[37m            \u001b[39;49;00m\u001b[94m\"link\"\u001b[39;49;00m:\u001b[37m \u001b[39;49;00m\u001b[33m\"https://www.google.com/maps/reviews/data=!4m8!14m7!1m6!2m5!1sChZDSUhNMG9nS0VJQ0FnSURqMTg2WVlREAE!2m1!1s0x0:0xf94ebd086715cabd!3m1!1s2@1:CIHM0ogKEICAgIDj186YYQ%7CCgwI5ZzysQYQuPL7swM%7C?hl=en-US\"\u001b[39;49;00m,\u001b[37m\u001b[39;49;00m\n",
       "\u001b[37m            \u001b[39;49;00m\u001b[94m\"rating\"\u001b[39;49;00m:\u001b[37m \u001b[39;49;00m\u001b[34m1.0\u001b[39;49;00m,\u001b[37m\u001b[39;49;00m\n",
       "\u001b[37m            \u001b[39;49;00m\u001b[94m\"date\"\u001b[39;49;00m:\u001b[37m \u001b[39;49;00m\u001b[33m\"2 weeks ago\"\u001b[39;49;00m,\u001b[37m\u001b[39;49;00m\n",
       "\u001b[37m            \u001b[39;49;00m\u001b[94m\"iso_date\"\u001b[39;49;00m:\u001b[37m \u001b[39;49;00m\u001b[33m\"2024-05-08T14:41:43Z\"\u001b[39;49;00m,\u001b[37m\u001b[39;49;00m\n",
       "\u001b[37m            \u001b[39;49;00m\u001b[94m\"iso_date_of_last_edit\"\u001b[39;49;00m:\u001b[37m \u001b[39;49;00m\u001b[33m\"2024-05-09T08:50:45Z\"\u001b[39;49;00m,\u001b[37m\u001b[39;49;00m\n",
       "\u001b[37m            \u001b[39;49;00m\u001b[94m\"source\"\u001b[39;49;00m:\u001b[37m \u001b[39;49;00m\u001b[33m\"Google\"\u001b[39;49;00m,\u001b[37m\u001b[39;49;00m\n",
       "\u001b[37m            \u001b[39;49;00m\u001b[94m\"review_id\"\u001b[39;49;00m:\u001b[37m \u001b[39;49;00m\u001b[33m\"ChZDSUhNMG9nS0VJQ0FnSURqMTg2WVlREAE\"\u001b[39;49;00m,\u001b[37m\u001b[39;49;00m\n",
       "\u001b[37m            \u001b[39;49;00m\u001b[94m\"user\"\u001b[39;49;00m:\u001b[37m \u001b[39;49;00m{\u001b[37m\u001b[39;49;00m\n",
       "\u001b[37m                \u001b[39;49;00m\u001b[94m\"name\"\u001b[39;49;00m:\u001b[37m \u001b[39;49;00m\u001b[33m\"Raman Arunachalam\"\u001b[39;49;00m,\u001b[37m\u001b[39;49;00m\n",
       "\u001b[37m                \u001b[39;49;00m\u001b[94m\"link\"\u001b[39;49;00m:\u001b[37m \u001b[39;49;00m\u001b[33m\"https://www.google.com/maps/contrib/104166624285450187702?hl=en-US\"\u001b[39;49;00m,\u001b[37m\u001b[39;49;00m\n",
       "\u001b[37m                \u001b[39;49;00m\u001b[94m\"contributor_id\"\u001b[39;49;00m:\u001b[37m \u001b[39;49;00m\u001b[33m\"104166624285450187702\"\u001b[39;49;00m,\u001b[37m\u001b[39;49;00m\n",
       "\u001b[37m                \u001b[39;49;00m\u001b[94m\"thumbnail\"\u001b[39;49;00m:\u001b[37m \u001b[39;49;00m\u001b[33m\"https://lh3.googleusercontent.com/a-/ALV-UjVgGrf94z-UX3X0EcYdaPHYQjwWhDac1hDKp4s6ZNxsypbaRyjl=s120-c-rp-mo-ba4-br100\"\u001b[39;49;00m,\u001b[37m\u001b[39;49;00m\n",
       "\u001b[37m                \u001b[39;49;00m\u001b[94m\"local_guide\"\u001b[39;49;00m:\u001b[37m \u001b[39;49;00m\u001b[34mtrue\u001b[39;49;00m,\u001b[37m\u001b[39;49;00m\n",
       "\u001b[37m                \u001b[39;49;00m\u001b[94m\"reviews\"\u001b[39;49;00m:\u001b[37m \u001b[39;49;00m\u001b[34m83\u001b[39;49;00m,\u001b[37m\u001b[39;49;00m\n",
       "\u001b[37m                \u001b[39;49;00m\u001b[94m\"photos\"\u001b[39;49;00m:\u001b[37m \u001b[39;49;00m\u001b[34m46\u001b[39;49;00m\u001b[37m\u001b[39;49;00m\n",
       "\u001b[37m            \u001b[39;49;00m},\u001b[37m\u001b[39;49;00m\n",
       "\u001b[37m            \u001b[39;49;00m\u001b[94m\"snippet\"\u001b[39;49;00m:\u001b[37m \u001b[39;49;00m\u001b[33m\"During 06/05/2024, the lunch served in the AC restaurant at Vaitheeswaran Koil was not good. The next day many people complained about dysentery, vomiting followed by fever. So some items may be contaminated, maybe the vadai, which was sour in taste they had served. Also the lunch service was very poor. There was no order in serving items. Serving people were not trained in hotel management.\"\u001b[39;49;00m,\u001b[37m\u001b[39;49;00m\n",
       "\u001b[37m            \u001b[39;49;00m\u001b[94m\"extracted_snippet\"\u001b[39;49;00m:\u001b[37m \u001b[39;49;00m{\u001b[37m\u001b[39;49;00m\n",
       "\u001b[37m                \u001b[39;49;00m\u001b[94m\"original\"\u001b[39;49;00m:\u001b[37m \u001b[39;49;00m\u001b[33m\"During 06/05/2024, the lunch served in the AC restaurant at Vaitheeswaran Koil was not good. The next day many people complained about dysentery, vomiting followed by fever. So some items may be contaminated, maybe the vadai, which was sour in taste they had served. Also the lunch service was very poor. There was no order in serving items. Serving people were not trained in hotel management.\"\u001b[39;49;00m\u001b[37m\u001b[39;49;00m\n",
       "\u001b[37m            \u001b[39;49;00m},\u001b[37m\u001b[39;49;00m\n",
       "\u001b[37m            \u001b[39;49;00m\u001b[94m\"details\"\u001b[39;49;00m:\u001b[37m \u001b[39;49;00m{\u001b[37m\u001b[39;49;00m\n",
       "\u001b[37m                \u001b[39;49;00m\u001b[94m\"rooms\"\u001b[39;49;00m:\u001b[37m \u001b[39;49;00m\u001b[34m3\u001b[39;49;00m,\u001b[37m\u001b[39;49;00m\n",
       "\u001b[37m                \u001b[39;49;00m\u001b[94m\"service\"\u001b[39;49;00m:\u001b[37m \u001b[39;49;00m\u001b[34m1\u001b[39;49;00m,\u001b[37m\u001b[39;49;00m\n",
       "\u001b[37m                \u001b[39;49;00m\u001b[94m\"food_drinks\"\u001b[39;49;00m:\u001b[37m \u001b[39;49;00m\u001b[33m\"During 06/05/2024, the lunch served in the AC restaurant at Vaitheeswaran Koil was not good. The next day many people complained about dysentery, vomiting followed by fever. So some items may be contaminated, maybe the vadai, which was sour in taste they had served. The same vadai was served for breakfast. Also the lunch service was very poor. There was no order in serving items. Serving people were not trained in hotel management.\"\u001b[39;49;00m\u001b[37m\u001b[39;49;00m\n",
       "\u001b[37m            \u001b[39;49;00m},\u001b[37m\u001b[39;49;00m\n",
       "\u001b[37m            \u001b[39;49;00m\u001b[94m\"likes\"\u001b[39;49;00m:\u001b[37m \u001b[39;49;00m\u001b[34m0\u001b[39;49;00m\u001b[37m\u001b[39;49;00m\n",
       "\u001b[37m        \u001b[39;49;00m},\u001b[37m\u001b[39;49;00m\n",
       "\u001b[37m        \u001b[39;49;00m{\u001b[37m\u001b[39;49;00m\n",
       "\u001b[37m            \u001b[39;49;00m\u001b[94m\"link\"\u001b[39;49;00m:\u001b[37m \u001b[39;49;00m\u001b[33m\"https://www.google.com/maps/reviews/data=!4m8!14m7!1m6!2m5!1sChdDSUhNMG9nS0VJQ0FnSURqaDV6NGxBRRAB!2m1!1s0x0:0xf94ebd086715cabd!3m1!1s2@1:CIHM0ogKEICAgIDjh5z4lAE%7CCgwI7IPssQYQoL7pmQI%7C?hl=en-US\"\u001b[39;49;00m,\u001b[37m\u001b[39;49;00m\n",
       "\u001b[37m            \u001b[39;49;00m\u001b[94m\"rating\"\u001b[39;49;00m:\u001b[37m \u001b[39;49;00m\u001b[34m4.0\u001b[39;49;00m,\u001b[37m\u001b[39;49;00m\n",
       "\u001b[37m            \u001b[39;49;00m\u001b[94m\"date\"\u001b[39;49;00m:\u001b[37m \u001b[39;49;00m\u001b[33m\"2 weeks ago\"\u001b[39;49;00m,\u001b[37m\u001b[39;49;00m\n",
       "\u001b[37m            \u001b[39;49;00m\u001b[94m\"iso_date\"\u001b[39;49;00m:\u001b[37m \u001b[39;49;00m\u001b[33m\"2024-05-08T04:39:08Z\"\u001b[39;49;00m,\u001b[37m\u001b[39;49;00m\n",
       "\u001b[37m            \u001b[39;49;00m\u001b[94m\"iso_date_of_last_edit\"\u001b[39;49;00m:\u001b[37m \u001b[39;49;00m\u001b[33m\"2024-05-08T04:39:08Z\"\u001b[39;49;00m,\u001b[37m\u001b[39;49;00m\n",
       "\u001b[37m            \u001b[39;49;00m\u001b[94m\"source\"\u001b[39;49;00m:\u001b[37m \u001b[39;49;00m\u001b[33m\"Google\"\u001b[39;49;00m,\u001b[37m\u001b[39;49;00m\n",
       "\u001b[37m            \u001b[39;49;00m\u001b[94m\"review_id\"\u001b[39;49;00m:\u001b[37m \u001b[39;49;00m\u001b[33m\"ChdDSUhNMG9nS0VJQ0FnSURqaDV6NGxBRRAB\"\u001b[39;49;00m,\u001b[37m\u001b[39;49;00m\n",
       "\u001b[37m            \u001b[39;49;00m\u001b[94m\"user\"\u001b[39;49;00m:\u001b[37m \u001b[39;49;00m{\u001b[37m\u001b[39;49;00m\n",
       "\u001b[37m                \u001b[39;49;00m\u001b[94m\"name\"\u001b[39;49;00m:\u001b[37m \u001b[39;49;00m\u001b[33m\"Manikandan\"\u001b[39;49;00m,\u001b[37m\u001b[39;49;00m\n",
       "\u001b[37m                \u001b[39;49;00m\u001b[94m\"link\"\u001b[39;49;00m:\u001b[37m \u001b[39;49;00m\u001b[33m\"https://www.google.com/maps/contrib/101273890412846414550?hl=en-US\"\u001b[39;49;00m,\u001b[37m\u001b[39;49;00m\n",
       "\u001b[37m                \u001b[39;49;00m\u001b[94m\"contributor_id\"\u001b[39;49;00m:\u001b[37m \u001b[39;49;00m\u001b[33m\"101273890412846414550\"\u001b[39;49;00m,\u001b[37m\u001b[39;49;00m\n",
       "\u001b[37m                \u001b[39;49;00m\u001b[94m\"thumbnail\"\u001b[39;49;00m:\u001b[37m \u001b[39;49;00m\u001b[33m\"https://lh3.googleusercontent.com/a/ACg8ocKPZtBuwF5GE5SuNC1W9iK3L-m_F--kT-BrpHAlC3aSkDpY1w=s120-c-rp-mo-ba3-br100\"\u001b[39;49;00m,\u001b[37m\u001b[39;49;00m\n",
       "\u001b[37m                \u001b[39;49;00m\u001b[94m\"local_guide\"\u001b[39;49;00m:\u001b[37m \u001b[39;49;00m\u001b[34mtrue\u001b[39;49;00m,\u001b[37m\u001b[39;49;00m\n",
       "\u001b[37m                \u001b[39;49;00m\u001b[94m\"reviews\"\u001b[39;49;00m:\u001b[37m \u001b[39;49;00m\u001b[34m16\u001b[39;49;00m,\u001b[37m\u001b[39;49;00m\n",
       "\u001b[37m                \u001b[39;49;00m\u001b[94m\"photos\"\u001b[39;49;00m:\u001b[37m \u001b[39;49;00m\u001b[34m90\u001b[39;49;00m\u001b[37m\u001b[39;49;00m\n",
       "\u001b[37m            \u001b[39;49;00m},\u001b[37m\u001b[39;49;00m\n",
       "\u001b[37m            \u001b[39;49;00m\u001b[94m\"details\"\u001b[39;49;00m:\u001b[37m \u001b[39;49;00m{\u001b[37m\u001b[39;49;00m\n",
       "\u001b[37m                \u001b[39;49;00m\u001b[94m\"location\"\u001b[39;49;00m:\u001b[37m \u001b[39;49;00m\u001b[34m5\u001b[39;49;00m\u001b[37m\u001b[39;49;00m\n",
       "\u001b[37m            \u001b[39;49;00m},\u001b[37m\u001b[39;49;00m\n",
       "\u001b[37m            \u001b[39;49;00m\u001b[94m\"likes\"\u001b[39;49;00m:\u001b[37m \u001b[39;49;00m\u001b[34m0\u001b[39;49;00m,\u001b[37m\u001b[39;49;00m\n",
       "\u001b[37m            \u001b[39;49;00m\u001b[94m\"response\"\u001b[39;49;00m:\u001b[37m \u001b[39;49;00m{\u001b[37m\u001b[39;49;00m\n",
       "\u001b[37m                \u001b[39;49;00m\u001b[94m\"date\"\u001b[39;49;00m:\u001b[37m \u001b[39;49;00m\u001b[33m\"2 weeks ago\"\u001b[39;49;00m,\u001b[37m\u001b[39;49;00m\n",
       "\u001b[37m                \u001b[39;49;00m\u001b[94m\"iso_date\"\u001b[39;49;00m:\u001b[37m \u001b[39;49;00m\u001b[33m\"2024-05-08T04:50:49Z\"\u001b[39;49;00m,\u001b[37m\u001b[39;49;00m\n",
       "\u001b[37m                \u001b[39;49;00m\u001b[94m\"iso_date_of_last_edit\"\u001b[39;49;00m:\u001b[37m \u001b[39;49;00m\u001b[33m\"2024-05-08T04:50:49Z\"\u001b[39;49;00m,\u001b[37m\u001b[39;49;00m\n",
       "\u001b[37m                \u001b[39;49;00m\u001b[94m\"snippet\"\u001b[39;49;00m:\u001b[37m \u001b[39;49;00m\u001b[33m\"Dear Mr.Manikandan,\\nThanks for rating us well, we thank you for stay with us. We are happy that you had a comfortable stay with us. Looking forward to your visit again.\\nWith Regards,\\nTeam Sadhabishegam.\"\u001b[39;49;00m,\u001b[37m\u001b[39;49;00m\n",
       "\u001b[37m                \u001b[39;49;00m\u001b[94m\"extracted_snippet\"\u001b[39;49;00m:\u001b[37m \u001b[39;49;00m{\u001b[37m\u001b[39;49;00m\n",
       "\u001b[37m                    \u001b[39;49;00m\u001b[94m\"original\"\u001b[39;49;00m:\u001b[37m \u001b[39;49;00m\u001b[33m\"Dear Mr.Manikandan,\\nThanks for rating us well, we thank you for stay with us. We are happy that you had a comfortable stay with us. Looking forward to your visit again.\\nWith Regards,\\nTeam Sadhabishegam.\"\u001b[39;49;00m\u001b[37m\u001b[39;49;00m\n",
       "\u001b[37m                \u001b[39;49;00m}\u001b[37m\u001b[39;49;00m\n",
       "\u001b[37m            \u001b[39;49;00m}\u001b[37m\u001b[39;49;00m\n",
       "\u001b[37m        \u001b[39;49;00m},\u001b[37m\u001b[39;49;00m\n",
       "\u001b[37m        \u001b[39;49;00m{\u001b[37m\u001b[39;49;00m\n",
       "\u001b[37m            \u001b[39;49;00m\u001b[94m\"link\"\u001b[39;49;00m:\u001b[37m \u001b[39;49;00m\u001b[33m\"https://www.google.com/maps/reviews/data=!4m8!14m7!1m6!2m5!1sChZDSUhNMG9nS0VJQ0FnSURqamFXNFBnEAE!2m1!1s0x0:0xf94ebd086715cabd!3m1!1s2@1:CIHM0ogKEICAgIDjjaW4Pg%7CCgwI9KzhsQYQgPz9iwE%7C?hl=en-US\"\u001b[39;49;00m,\u001b[37m\u001b[39;49;00m\n",
       "\u001b[37m            \u001b[39;49;00m\u001b[94m\"rating\"\u001b[39;49;00m:\u001b[37m \u001b[39;49;00m\u001b[34m3.0\u001b[39;49;00m,\u001b[37m\u001b[39;49;00m\n",
       "\u001b[37m            \u001b[39;49;00m\u001b[94m\"date\"\u001b[39;49;00m:\u001b[37m \u001b[39;49;00m\u001b[33m\"2 weeks ago\"\u001b[39;49;00m,\u001b[37m\u001b[39;49;00m\n",
       "\u001b[37m            \u001b[39;49;00m\u001b[94m\"iso_date\"\u001b[39;49;00m:\u001b[37m \u001b[39;49;00m\u001b[33m\"2024-05-06T04:02:56Z\"\u001b[39;49;00m,\u001b[37m\u001b[39;49;00m\n",
       "\u001b[37m            \u001b[39;49;00m\u001b[94m\"iso_date_of_last_edit\"\u001b[39;49;00m:\u001b[37m \u001b[39;49;00m\u001b[33m\"2024-05-06T04:03:00Z\"\u001b[39;49;00m,\u001b[37m\u001b[39;49;00m\n",
       "\u001b[37m            \u001b[39;49;00m\u001b[94m\"source\"\u001b[39;49;00m:\u001b[37m \u001b[39;49;00m\u001b[33m\"Google\"\u001b[39;49;00m,\u001b[37m\u001b[39;49;00m\n",
       "\u001b[37m            \u001b[39;49;00m\u001b[94m\"review_id\"\u001b[39;49;00m:\u001b[37m \u001b[39;49;00m\u001b[33m\"ChZDSUhNMG9nS0VJQ0FnSURqamFXNFBnEAE\"\u001b[39;49;00m,\u001b[37m\u001b[39;49;00m\n",
       "\u001b[37m            \u001b[39;49;00m\u001b[94m\"user\"\u001b[39;49;00m:\u001b[37m \u001b[39;49;00m{\u001b[37m\u001b[39;49;00m\n",
       "\u001b[37m                \u001b[39;49;00m\u001b[94m\"name\"\u001b[39;49;00m:\u001b[37m \u001b[39;49;00m\u001b[33m\"sundar j\"\u001b[39;49;00m,\u001b[37m\u001b[39;49;00m\n",
       "\u001b[37m                \u001b[39;49;00m\u001b[94m\"link\"\u001b[39;49;00m:\u001b[37m \u001b[39;49;00m\u001b[33m\"https://www.google.com/maps/contrib/101057270252752478296?hl=en-US\"\u001b[39;49;00m,\u001b[37m\u001b[39;49;00m\n",
       "\u001b[37m                \u001b[39;49;00m\u001b[94m\"contributor_id\"\u001b[39;49;00m:\u001b[37m \u001b[39;49;00m\u001b[33m\"101057270252752478296\"\u001b[39;49;00m,\u001b[37m\u001b[39;49;00m\n",
       "\u001b[37m                \u001b[39;49;00m\u001b[94m\"thumbnail\"\u001b[39;49;00m:\u001b[37m \u001b[39;49;00m\u001b[33m\"https://lh3.googleusercontent.com/a/ACg8ocI9oi4hkJtUXUsbjQLNJZmAg_MuvBjgWY2vD7e3mfPX4PR5aw=s120-c-rp-mo-br100\"\u001b[39;49;00m,\u001b[37m\u001b[39;49;00m\n",
       "\u001b[37m                \u001b[39;49;00m\u001b[94m\"reviews\"\u001b[39;49;00m:\u001b[37m \u001b[39;49;00m\u001b[34m1\u001b[39;49;00m,\u001b[37m\u001b[39;49;00m\n",
       "\u001b[37m                \u001b[39;49;00m\u001b[94m\"photos\"\u001b[39;49;00m:\u001b[37m \u001b[39;49;00m\u001b[34m0\u001b[39;49;00m\u001b[37m\u001b[39;49;00m\n",
       "\u001b[37m            \u001b[39;49;00m},\u001b[37m\u001b[39;49;00m\n",
       "\u001b[37m            \u001b[39;49;00m\u001b[94m\"likes\"\u001b[39;49;00m:\u001b[37m \u001b[39;49;00m\u001b[34m0\u001b[39;49;00m,\u001b[37m\u001b[39;49;00m\n",
       "\u001b[37m            \u001b[39;49;00m\u001b[94m\"response\"\u001b[39;49;00m:\u001b[37m \u001b[39;49;00m{\u001b[37m\u001b[39;49;00m\n",
       "\u001b[37m                \u001b[39;49;00m\u001b[94m\"date\"\u001b[39;49;00m:\u001b[37m \u001b[39;49;00m\u001b[33m\"2 weeks ago\"\u001b[39;49;00m,\u001b[37m\u001b[39;49;00m\n",
       "\u001b[37m                \u001b[39;49;00m\u001b[94m\"iso_date\"\u001b[39;49;00m:\u001b[37m \u001b[39;49;00m\u001b[33m\"2024-05-06T04:45:39Z\"\u001b[39;49;00m,\u001b[37m\u001b[39;49;00m\n",
       "\u001b[37m                \u001b[39;49;00m\u001b[94m\"iso_date_of_last_edit\"\u001b[39;49;00m:\u001b[37m \u001b[39;49;00m\u001b[33m\"2024-05-06T04:45:39Z\"\u001b[39;49;00m,\u001b[37m\u001b[39;49;00m\n",
       "\u001b[37m                \u001b[39;49;00m\u001b[94m\"snippet\"\u001b[39;49;00m:\u001b[37m \u001b[39;49;00m\u001b[33m\"Dear Mr.Sundar,\\nThanks for sharing your rating . We\\u2019re sorry your experience didn\\u2019t match your expectations. we\\u2019ll do better in the future\\nRegards,\\nHotel Sadhabishegam\"\u001b[39;49;00m,\u001b[37m\u001b[39;49;00m\n",
       "\u001b[37m                \u001b[39;49;00m\u001b[94m\"extracted_snippet\"\u001b[39;49;00m:\u001b[37m \u001b[39;49;00m{\u001b[37m\u001b[39;49;00m\n",
       "\u001b[37m                    \u001b[39;49;00m\u001b[94m\"original\"\u001b[39;49;00m:\u001b[37m \u001b[39;49;00m\u001b[33m\"Dear Mr.Sundar,\\nThanks for sharing your rating . We\\u2019re sorry your experience didn\\u2019t match your expectations. we\\u2019ll do better in the future\\nRegards,\\nHotel Sadhabishegam\"\u001b[39;49;00m\u001b[37m\u001b[39;49;00m\n",
       "\u001b[37m                \u001b[39;49;00m}\u001b[37m\u001b[39;49;00m\n",
       "\u001b[37m            \u001b[39;49;00m}\u001b[37m\u001b[39;49;00m\n",
       "\u001b[37m        \u001b[39;49;00m}\u001b[37m\u001b[39;49;00m\n",
       "\u001b[37m    \u001b[39;49;00m],\u001b[37m\u001b[39;49;00m\n",
       "\u001b[37m    \u001b[39;49;00m\u001b[94m\"serpapi_pagination\"\u001b[39;49;00m:\u001b[37m \u001b[39;49;00m{\u001b[37m\u001b[39;49;00m\n",
       "\u001b[37m        \u001b[39;49;00m\u001b[94m\"next\"\u001b[39;49;00m:\u001b[37m \u001b[39;49;00m\u001b[33m\"https://serpapi.com/search.json?engine=google_maps_reviews&hl=en&next_page_token=CAESBkVnSUlDQQ%3D%3D&place_id=ChIJ6arCErzfVDoRvcoVZwi9Tvk&sort_by=newestFirst\"\u001b[39;49;00m,\u001b[37m\u001b[39;49;00m\n",
       "\u001b[37m        \u001b[39;49;00m\u001b[94m\"next_page_token\"\u001b[39;49;00m:\u001b[37m \u001b[39;49;00m\u001b[33m\"CAESBkVnSUlDQQ==\"\u001b[39;49;00m\u001b[37m\u001b[39;49;00m\n",
       "\u001b[37m    \u001b[39;49;00m}\u001b[37m\u001b[39;49;00m\n",
       "}\u001b[37m\u001b[39;49;00m"
      ]
     },
     "execution_count": 11,
     "metadata": {},
     "output_type": "execute_result"
    }
   ],
   "source": [
    "results"
   ]
  },
  {
   "cell_type": "markdown",
   "metadata": {},
   "source": [
    "## outscrapper"
   ]
  },
  {
   "cell_type": "code",
   "execution_count": 18,
   "metadata": {},
   "outputs": [],
   "source": [
    "def to_integer(dt_time):\n",
    "    return 10000*dt_time.year + 100*dt_time.month + dt_time.day\n",
    "\n",
    "# x=round(int(datetime.datetime.now().timestamp()))\n",
    "\n",
    "today = datetime.date.today()\n",
    "print(\"Today is: \", today)\n",
    " \n",
    "# Yesterday date\n",
    "yesterday = today - timedelta(days = 1)\n",
    "print(\"Yesterday was: \", yesterday)\n",
    "\n",
    "x=to_integer(yesterday)"
   ]
  },
  {
   "cell_type": "code",
   "execution_count": 12,
   "metadata": {},
   "outputs": [
    {
     "name": "stdout",
     "output_type": "stream",
     "text": [
      "Today is:  2024-05-24\n",
      "Yesterday was:  2024-05-23\n"
     ]
    }
   ],
   "source": [
    "results = client.google_maps_reviews(['ChIJ6arCErzfVDoRvcoVZwi9Tvk'], reviews_limit=2, language='en',cutoff=x,sort='newest')"
   ]
  },
  {
   "cell_type": "code",
   "execution_count": 23,
   "metadata": {},
   "outputs": [],
   "source": [
    "results = client.google_maps_reviews(['ChIJ6arCErzfVDoRvcoVZwi9Tvk'], reviews_limit=0, language='en',async_request=True)\n",
    "attempts = 5 # retry 5 times\n",
    "while attempts: # stop when no more attempts are left or when no more running request ids\n",
    "    attempts -= 1\n",
    "    time.sleep(60)\n",
    "\n",
    "    \n",
    "    result = client.get_request_archive('a-22b81a6f-fbec-4f62-87b6-66ad431cec5f')\n",
    "    print(result['status'])\n",
    "\n",
    "    if result['status'] == 'Success':\n",
    "        break\n",
    "x=client.get_request_archive('a-22b81a6f-fbec-4f62-87b6-66ad431cec5f')"
   ]
  },
  {
   "cell_type": "code",
   "execution_count": 39,
   "metadata": {},
   "outputs": [],
   "source": [
    "# with open(\"./sadhabishegam_reviews\", \"wb\") as fp:   #Pickling\n",
    "#     pickle.dump(x, fp)\n",
    "\n",
    "with open(\"sadhabishegam_reviews\", \"rb\") as fp:   # Unpickling\n",
    "    b = pickle.load(fp)"
   ]
  },
  {
   "cell_type": "markdown",
   "metadata": {},
   "source": [
    "## saving to csv"
   ]
  },
  {
   "cell_type": "code",
   "execution_count": 42,
   "metadata": {},
   "outputs": [],
   "source": [
    "with open(\"sadhabishegam_reviews\", \"rb\") as fp:   # Unpickling\n",
    "    data = pickle.load(fp)"
   ]
  },
  {
   "cell_type": "code",
   "execution_count": 59,
   "metadata": {},
   "outputs": [],
   "source": [
    "df=pd.DataFrame(index=range(0,10))"
   ]
  },
  {
   "cell_type": "code",
   "execution_count": 79,
   "metadata": {},
   "outputs": [],
   "source": [
    "df=pd.DataFrame(columns=['review_id','review_rating','review_date','review_text'],index=range(len(data['data'][0]['reviews_data'])))\n",
    "for id,element in enumerate(data['data'][0]['reviews_data']):\n",
    "    df.loc[id,'review_id']=element['review_id']\n",
    "    df.loc[id,'review_rating']=element['review_rating']\n",
    "    df.loc[id,'review_date']=element['review_datetime_utc']\n",
    "    df.loc[id,'review_text']=element['review_text']"
   ]
  },
  {
   "cell_type": "code",
   "execution_count": 81,
   "metadata": {},
   "outputs": [],
   "source": [
    "df.to_csv('./sadhabishegam_reviews.csv',index=False)"
   ]
  },
  {
   "cell_type": "code",
   "execution_count": 69,
   "metadata": {},
   "outputs": [
    {
     "data": {
      "text/plain": [
       "{'google_id': '0x3a54dfbc12c2aae9:0xf94ebd086715cabd',\n",
       " 'review_id': 'ChdDSUhNMG9nS0VJQ0FnSUREdWN1enZ3RRAB',\n",
       " 'review_pagination_id': 'CAESBkVnSUlBUQ==',\n",
       " 'author_link': 'https://www.google.com/maps/contrib/105636033088388932579?hl=en',\n",
       " 'author_title': 'Krupa Hari',\n",
       " 'author_id': '105636033088388932579',\n",
       " 'author_image': 'https://lh3.googleusercontent.com/a/ACg8ocJPw7FuT9VFXPEEUTMgiaeRrlg73rZLLmShOiwucpb7OYyP3Qc=s120-c-rp-mo-br100',\n",
       " 'author_reviews_count': 7,\n",
       " 'author_ratings_count': 9,\n",
       " 'review_text': 'Had a pleasant stay here for 2 days and enjoyed breakfast lunch and dinner at their pure veg restaurant.  Special mention to the courteous and caring staff at the restaurant.\\n\\nWe found the room spacious and comfortable. It was fortunately devoid of the current trend of false ceiling and spot lights.\\n\\nIdeally located close to temples, it has good food, comfy rooms,  hot water for bathing, kettles in the room,  good air conditioning, ample parking, lush green trees and good landscaping.. overall a beautiful experience.\\n\\nHope their service continues to be as good in the years to come.',\n",
       " 'review_img_urls': None,\n",
       " 'review_img_url': None,\n",
       " 'review_questions': {'Trip type': 'Vacation',\n",
       "  'Travel group': 'Family',\n",
       "  'Rooms': '5',\n",
       "  'Service': '5',\n",
       "  'Location': '5',\n",
       "  'Hotel highlights': 'Luxury, Great view, Quiet'},\n",
       " 'review_photo_ids': None,\n",
       " 'owner_answer': 'Dear Mr.Krupa Hari,\\nThanks for rating us well, we thank you for stay with us. We are happy that you had a comfortable stay with us. Looking forward to your visit again.\\nWith Regards,\\nTeam Sadhabishegam.',\n",
       " 'owner_answer_timestamp': 1712898557,\n",
       " 'owner_answer_timestamp_datetime_utc': '04/12/2024 05:09:17',\n",
       " 'review_link': 'https://www.google.com/maps/reviews/data=!4m8!14m7!1m6!2m5!1sChdDSUhNMG9nS0VJQ0FnSUREdWN1enZ3RRAB!2m1!1s0x0:0xf94ebd086715cabd!3m1!1s2@1:CIHM0ogKEICAgIDDucuzvwE%7CCgsIqMPgsAYQoI-KNg%7C?hl=en',\n",
       " 'review_rating': 5,\n",
       " 'review_timestamp': 1712857512,\n",
       " 'review_datetime_utc': '04/11/2024 17:45:12',\n",
       " 'review_likes': 0,\n",
       " 'reviews_id': '-482240266295194947'}"
      ]
     },
     "execution_count": 69,
     "metadata": {},
     "output_type": "execute_result"
    }
   ],
   "source": [
    "data['data'][0]['reviews_data'][0]"
   ]
  },
  {
   "cell_type": "markdown",
   "metadata": {},
   "source": [
    "## Analysis"
   ]
  },
  {
   "cell_type": "code",
   "execution_count": 3,
   "metadata": {},
   "outputs": [],
   "source": [
    "df=pd.read_csv('./sadhabishegam_reviews.csv')\n",
    "df['review_date']=pd.to_datetime(df['review_date']).dt.date\n",
    "# df['review_date']=pd.to_datetime(df['review_date'])\n",
    "df=df.sort_values('review_date').sort_index()"
   ]
  },
  {
   "cell_type": "code",
   "execution_count": 4,
   "metadata": {},
   "outputs": [
    {
     "data": {
      "text/html": [
       "<div>\n",
       "<style scoped>\n",
       "    .dataframe tbody tr th:only-of-type {\n",
       "        vertical-align: middle;\n",
       "    }\n",
       "\n",
       "    .dataframe tbody tr th {\n",
       "        vertical-align: top;\n",
       "    }\n",
       "\n",
       "    .dataframe thead th {\n",
       "        text-align: right;\n",
       "    }\n",
       "</style>\n",
       "<table border=\"1\" class=\"dataframe\">\n",
       "  <thead>\n",
       "    <tr style=\"text-align: right;\">\n",
       "      <th></th>\n",
       "      <th>review_id</th>\n",
       "      <th>review_rating</th>\n",
       "      <th>review_date</th>\n",
       "      <th>review_text</th>\n",
       "    </tr>\n",
       "  </thead>\n",
       "  <tbody>\n",
       "    <tr>\n",
       "      <th>0</th>\n",
       "      <td>ChdDSUhNMG9nS0VJQ0FnSUREdWN1enZ3RRAB</td>\n",
       "      <td>5.0</td>\n",
       "      <td>2024-04-11</td>\n",
       "      <td>Had a pleasant stay here for 2 days and enjoye...</td>\n",
       "    </tr>\n",
       "    <tr>\n",
       "      <th>1</th>\n",
       "      <td>ChZDSUhNMG9nS0VJQ0FnSURObDU3cEdBEAE</td>\n",
       "      <td>NaN</td>\n",
       "      <td>2024-01-02</td>\n",
       "      <td>The stay at hotel sadhabhishegam was very comf...</td>\n",
       "    </tr>\n",
       "  </tbody>\n",
       "</table>\n",
       "</div>"
      ],
      "text/plain": [
       "                              review_id  review_rating review_date  \\\n",
       "0  ChdDSUhNMG9nS0VJQ0FnSUREdWN1enZ3RRAB            5.0  2024-04-11   \n",
       "1   ChZDSUhNMG9nS0VJQ0FnSURObDU3cEdBEAE            NaN  2024-01-02   \n",
       "\n",
       "                                         review_text  \n",
       "0  Had a pleasant stay here for 2 days and enjoye...  \n",
       "1  The stay at hotel sadhabhishegam was very comf...  "
      ]
     },
     "execution_count": 4,
     "metadata": {},
     "output_type": "execute_result"
    }
   ],
   "source": [
    "df.head(2)"
   ]
  },
  {
   "cell_type": "code",
   "execution_count": 8,
   "metadata": {},
   "outputs": [],
   "source": [
    "today = datetime.date.today()\n",
    "\n",
    "twelve_days = today - timedelta(days = 30)\n",
    "# df['review_date'].resample('W')"
   ]
  },
  {
   "cell_type": "code",
   "execution_count": 9,
   "metadata": {},
   "outputs": [
    {
     "data": {
      "text/plain": [
       "9.42857142857143"
      ]
     },
     "execution_count": 9,
     "metadata": {},
     "output_type": "execute_result"
    }
   ],
   "source": [
    "def get_percentage_increase(num_a, num_b):\n",
    "    return ((num_a - num_b) / num_b) * 100\n",
    "\n",
    "get_percentage_increase(3.83,3.5)\n"
   ]
  },
  {
   "cell_type": "code",
   "execution_count": 11,
   "metadata": {},
   "outputs": [],
   "source": [
    "temp=df[(df['review_date']<today) & (df['review_date']>twelve_days)].sort_values('review_date')"
   ]
  },
  {
   "cell_type": "code",
   "execution_count": 35,
   "metadata": {},
   "outputs": [],
   "source": [
    "df=pd.read_csv('./sadhabishegam_reviews.csv')\n",
    "df['review_date']=pd.to_datetime(df['review_date']).dt.date\n",
    "df=df.sort_values('review_date').sort_index()"
   ]
  },
  {
   "cell_type": "code",
   "execution_count": 38,
   "metadata": {},
   "outputs": [
    {
     "data": {
      "text/html": [
       "<div>\n",
       "<style scoped>\n",
       "    .dataframe tbody tr th:only-of-type {\n",
       "        vertical-align: middle;\n",
       "    }\n",
       "\n",
       "    .dataframe tbody tr th {\n",
       "        vertical-align: top;\n",
       "    }\n",
       "\n",
       "    .dataframe thead th {\n",
       "        text-align: right;\n",
       "    }\n",
       "</style>\n",
       "<table border=\"1\" class=\"dataframe\">\n",
       "  <thead>\n",
       "    <tr style=\"text-align: right;\">\n",
       "      <th></th>\n",
       "      <th>review_id</th>\n",
       "      <th>review_rating</th>\n",
       "      <th>review_date</th>\n",
       "      <th>review_text</th>\n",
       "    </tr>\n",
       "  </thead>\n",
       "  <tbody>\n",
       "    <tr>\n",
       "      <th>0</th>\n",
       "      <td>ChdDSUhNMG9nS0VJQ0FnSUREdWN1enZ3RRAB</td>\n",
       "      <td>5.0</td>\n",
       "      <td>2024-04-11</td>\n",
       "      <td>Had a pleasant stay here for 2 days and enjoye...</td>\n",
       "    </tr>\n",
       "    <tr>\n",
       "      <th>1</th>\n",
       "      <td>ChZDSUhNMG9nS0VJQ0FnSURObDU3cEdBEAE</td>\n",
       "      <td>NaN</td>\n",
       "      <td>2024-01-02</td>\n",
       "      <td>The stay at hotel sadhabhishegam was very comf...</td>\n",
       "    </tr>\n",
       "  </tbody>\n",
       "</table>\n",
       "</div>"
      ],
      "text/plain": [
       "                              review_id  review_rating review_date  \\\n",
       "0  ChdDSUhNMG9nS0VJQ0FnSUREdWN1enZ3RRAB            5.0  2024-04-11   \n",
       "1   ChZDSUhNMG9nS0VJQ0FnSURObDU3cEdBEAE            NaN  2024-01-02   \n",
       "\n",
       "                                         review_text  \n",
       "0  Had a pleasant stay here for 2 days and enjoye...  \n",
       "1  The stay at hotel sadhabhishegam was very comf...  "
      ]
     },
     "execution_count": 38,
     "metadata": {},
     "output_type": "execute_result"
    }
   ],
   "source": [
    "df.head(2)"
   ]
  },
  {
   "cell_type": "code",
   "execution_count": 39,
   "metadata": {},
   "outputs": [
    {
     "name": "stdout",
     "output_type": "stream",
     "text": [
      "<class 'pandas.core.frame.DataFrame'>\n",
      "Index: 2822 entries, 0 to 2821\n",
      "Data columns (total 4 columns):\n",
      " #   Column         Non-Null Count  Dtype  \n",
      "---  ------         --------------  -----  \n",
      " 0   review_id      2822 non-null   object \n",
      " 1   review_rating  2760 non-null   float64\n",
      " 2   review_date    2822 non-null   object \n",
      " 3   review_text    1407 non-null   object \n",
      "dtypes: float64(1), object(3)\n",
      "memory usage: 110.2+ KB\n"
     ]
    }
   ],
   "source": [
    "df.info()"
   ]
  },
  {
   "cell_type": "code",
   "execution_count": 36,
   "metadata": {},
   "outputs": [],
   "source": [
    "def filter_time_df(df,previous_n_days_lm,previous_n_days_ul):\n",
    "   previous_n_days_ul = datetime.date.today() - timedelta(days = previous_n_days_ul)\n",
    "   previous_n_days_ul = datetime.date.today() - timedelta(days = previous_n_days_lm)\n",
    "   df=df[(df['review_date']<previous_n_days_ul) & (df['review_date']>previous_n_days_lm)].sort_values('review_date')\n",
    "   return df"
   ]
  },
  {
   "cell_type": "code",
   "execution_count": 43,
   "metadata": {},
   "outputs": [
    {
     "data": {
      "text/plain": [
       "-23.91"
      ]
     },
     "execution_count": 43,
     "metadata": {},
     "output_type": "execute_result"
    }
   ],
   "source": [
    "def get_percentage(num_a,num_b):\n",
    "    return round(((num_a - num_b) / num_b) * 100,2)\n",
    "\n",
    "get_percentage(70,92)"
   ]
  },
  {
   "cell_type": "code",
   "execution_count": 41,
   "metadata": {},
   "outputs": [
    {
     "data": {
      "text/html": [
       "<div>\n",
       "<style scoped>\n",
       "    .dataframe tbody tr th:only-of-type {\n",
       "        vertical-align: middle;\n",
       "    }\n",
       "\n",
       "    .dataframe tbody tr th {\n",
       "        vertical-align: top;\n",
       "    }\n",
       "\n",
       "    .dataframe thead th {\n",
       "        text-align: right;\n",
       "    }\n",
       "</style>\n",
       "<table border=\"1\" class=\"dataframe\">\n",
       "  <thead>\n",
       "    <tr style=\"text-align: right;\">\n",
       "      <th></th>\n",
       "      <th>review_id</th>\n",
       "      <th>review_rating</th>\n",
       "      <th>review_date</th>\n",
       "      <th>review_text</th>\n",
       "    </tr>\n",
       "  </thead>\n",
       "  <tbody>\n",
       "    <tr>\n",
       "      <th>0</th>\n",
       "      <td>ChdDSUhNMG9nS0VJQ0FnSUREdWN1enZ3RRAB</td>\n",
       "      <td>5.0</td>\n",
       "      <td>2024-04-11</td>\n",
       "      <td>Had a pleasant stay here for 2 days and enjoye...</td>\n",
       "    </tr>\n",
       "    <tr>\n",
       "      <th>1</th>\n",
       "      <td>ChZDSUhNMG9nS0VJQ0FnSURObDU3cEdBEAE</td>\n",
       "      <td>NaN</td>\n",
       "      <td>2024-01-02</td>\n",
       "      <td>The stay at hotel sadhabhishegam was very comf...</td>\n",
       "    </tr>\n",
       "    <tr>\n",
       "      <th>2</th>\n",
       "      <td>ChZDSUhNMG9nS0VJQ0FnSUNkeGRhOFVREAE</td>\n",
       "      <td>NaN</td>\n",
       "      <td>2024-02-10</td>\n",
       "      <td>Hotel Sadhabishegam is very well maintained. T...</td>\n",
       "    </tr>\n",
       "    <tr>\n",
       "      <th>4</th>\n",
       "      <td>ChZDSUhNMG9nS0VJQ0FnSUNqdExHVWZBEAE</td>\n",
       "      <td>2.0</td>\n",
       "      <td>2024-04-18</td>\n",
       "      <td>Earlier one of the quality hotels in Vaitheesw...</td>\n",
       "    </tr>\n",
       "    <tr>\n",
       "      <th>5</th>\n",
       "      <td>ChZDSUhNMG9nS0VJQ0FnSURqcGEyck5BEAE</td>\n",
       "      <td>NaN</td>\n",
       "      <td>2024-04-02</td>\n",
       "      <td>We booked this hotel by seeing the Google revi...</td>\n",
       "    </tr>\n",
       "    <tr>\n",
       "      <th>...</th>\n",
       "      <td>...</td>\n",
       "      <td>...</td>\n",
       "      <td>...</td>\n",
       "      <td>...</td>\n",
       "    </tr>\n",
       "    <tr>\n",
       "      <th>2817</th>\n",
       "      <td>ChRDSUhNMG9nS0VJQ0FnSURZM2J4ehAB</td>\n",
       "      <td>4.0</td>\n",
       "      <td>2018-07-26</td>\n",
       "      <td>NaN</td>\n",
       "    </tr>\n",
       "    <tr>\n",
       "      <th>2818</th>\n",
       "      <td>ChRDSUhNMG9nS0VJQ0FnSURNOV9JbhAB</td>\n",
       "      <td>5.0</td>\n",
       "      <td>2020-01-15</td>\n",
       "      <td>NaN</td>\n",
       "    </tr>\n",
       "    <tr>\n",
       "      <th>2819</th>\n",
       "      <td>ChRDSUhNMG9nS0VJQ0FnSURZbmU4WhAB</td>\n",
       "      <td>4.0</td>\n",
       "      <td>2018-09-02</td>\n",
       "      <td>NaN</td>\n",
       "    </tr>\n",
       "    <tr>\n",
       "      <th>2820</th>\n",
       "      <td>ChRDSUhNMG9nS0VJQ0FnSUN4OW9FSxAB</td>\n",
       "      <td>4.0</td>\n",
       "      <td>2023-05-17</td>\n",
       "      <td>NaN</td>\n",
       "    </tr>\n",
       "    <tr>\n",
       "      <th>2821</th>\n",
       "      <td>ChRDSUhNMG9nS0VJQ0FnSUNzeU00QhAB</td>\n",
       "      <td>4.0</td>\n",
       "      <td>2020-01-20</td>\n",
       "      <td>NaN</td>\n",
       "    </tr>\n",
       "  </tbody>\n",
       "</table>\n",
       "<p>2811 rows × 4 columns</p>\n",
       "</div>"
      ],
      "text/plain": [
       "                                 review_id  review_rating review_date  \\\n",
       "0     ChdDSUhNMG9nS0VJQ0FnSUREdWN1enZ3RRAB            5.0  2024-04-11   \n",
       "1      ChZDSUhNMG9nS0VJQ0FnSURObDU3cEdBEAE            NaN  2024-01-02   \n",
       "2      ChZDSUhNMG9nS0VJQ0FnSUNkeGRhOFVREAE            NaN  2024-02-10   \n",
       "4      ChZDSUhNMG9nS0VJQ0FnSUNqdExHVWZBEAE            2.0  2024-04-18   \n",
       "5      ChZDSUhNMG9nS0VJQ0FnSURqcGEyck5BEAE            NaN  2024-04-02   \n",
       "...                                    ...            ...         ...   \n",
       "2817      ChRDSUhNMG9nS0VJQ0FnSURZM2J4ehAB            4.0  2018-07-26   \n",
       "2818      ChRDSUhNMG9nS0VJQ0FnSURNOV9JbhAB            5.0  2020-01-15   \n",
       "2819      ChRDSUhNMG9nS0VJQ0FnSURZbmU4WhAB            4.0  2018-09-02   \n",
       "2820      ChRDSUhNMG9nS0VJQ0FnSUN4OW9FSxAB            4.0  2023-05-17   \n",
       "2821      ChRDSUhNMG9nS0VJQ0FnSUNzeU00QhAB            4.0  2020-01-20   \n",
       "\n",
       "                                            review_text  \n",
       "0     Had a pleasant stay here for 2 days and enjoye...  \n",
       "1     The stay at hotel sadhabhishegam was very comf...  \n",
       "2     Hotel Sadhabishegam is very well maintained. T...  \n",
       "4     Earlier one of the quality hotels in Vaitheesw...  \n",
       "5     We booked this hotel by seeing the Google revi...  \n",
       "...                                                 ...  \n",
       "2817                                                NaN  \n",
       "2818                                                NaN  \n",
       "2819                                                NaN  \n",
       "2820                                                NaN  \n",
       "2821                                                NaN  \n",
       "\n",
       "[2811 rows x 4 columns]"
      ]
     },
     "execution_count": 41,
     "metadata": {},
     "output_type": "execute_result"
    }
   ],
   "source": [
    "previous_n_days_ul=datetime.date.today() - timedelta(days = 30)\n",
    "df[(df['review_date']<previous_n_days_ul)]"
   ]
  },
  {
   "cell_type": "code",
   "execution_count": 37,
   "metadata": {},
   "outputs": [
    {
     "ename": "TypeError",
     "evalue": "'>' not supported between instances of 'datetime.date' and 'int'",
     "output_type": "error",
     "traceback": [
      "\u001b[0;31m---------------------------------------------------------------------------\u001b[0m",
      "\u001b[0;31mTypeError\u001b[0m                                 Traceback (most recent call last)",
      "Cell \u001b[0;32mIn[37], line 1\u001b[0m\n\u001b[0;32m----> 1\u001b[0m temp_df_time_filtered\u001b[38;5;241m=\u001b[39m\u001b[43mfilter_time_df\u001b[49m\u001b[43m(\u001b[49m\u001b[43mdf\u001b[49m\u001b[43m,\u001b[49m\u001b[43mprevious_n_days_lm\u001b[49m\u001b[38;5;241;43m=\u001b[39;49m\u001b[38;5;241;43m120\u001b[39;49m\u001b[43m,\u001b[49m\u001b[43mprevious_n_days_ul\u001b[49m\u001b[38;5;241;43m=\u001b[39;49m\u001b[38;5;241;43m0\u001b[39;49m\u001b[43m)\u001b[49m\n",
      "Cell \u001b[0;32mIn[36], line 4\u001b[0m, in \u001b[0;36mfilter_time_df\u001b[0;34m(df, previous_n_days_lm, previous_n_days_ul)\u001b[0m\n\u001b[1;32m      2\u001b[0m previous_n_days_ul \u001b[38;5;241m=\u001b[39m datetime\u001b[38;5;241m.\u001b[39mdate\u001b[38;5;241m.\u001b[39mtoday() \u001b[38;5;241m-\u001b[39m timedelta(days \u001b[38;5;241m=\u001b[39m previous_n_days_ul)\n\u001b[1;32m      3\u001b[0m previous_n_days_ul \u001b[38;5;241m=\u001b[39m datetime\u001b[38;5;241m.\u001b[39mdate\u001b[38;5;241m.\u001b[39mtoday() \u001b[38;5;241m-\u001b[39m timedelta(days \u001b[38;5;241m=\u001b[39m previous_n_days_lm)\n\u001b[0;32m----> 4\u001b[0m df\u001b[38;5;241m=\u001b[39mdf[(df[\u001b[38;5;124m'\u001b[39m\u001b[38;5;124mreview_date\u001b[39m\u001b[38;5;124m'\u001b[39m]\u001b[38;5;241m<\u001b[39mprevious_n_days_ul) \u001b[38;5;241m&\u001b[39m (\u001b[43mdf\u001b[49m\u001b[43m[\u001b[49m\u001b[38;5;124;43m'\u001b[39;49m\u001b[38;5;124;43mreview_date\u001b[39;49m\u001b[38;5;124;43m'\u001b[39;49m\u001b[43m]\u001b[49m\u001b[38;5;241;43m>\u001b[39;49m\u001b[43mprevious_n_days_lm\u001b[49m)]\u001b[38;5;241m.\u001b[39msort_values(\u001b[38;5;124m'\u001b[39m\u001b[38;5;124mreview_date\u001b[39m\u001b[38;5;124m'\u001b[39m)\n\u001b[1;32m      5\u001b[0m \u001b[38;5;28;01mreturn\u001b[39;00m df\n",
      "File \u001b[0;32m~/test/sadha/.venv/lib/python3.10/site-packages/pandas/core/ops/common.py:76\u001b[0m, in \u001b[0;36m_unpack_zerodim_and_defer.<locals>.new_method\u001b[0;34m(self, other)\u001b[0m\n\u001b[1;32m     72\u001b[0m             \u001b[38;5;28;01mreturn\u001b[39;00m \u001b[38;5;28mNotImplemented\u001b[39m\n\u001b[1;32m     74\u001b[0m other \u001b[38;5;241m=\u001b[39m item_from_zerodim(other)\n\u001b[0;32m---> 76\u001b[0m \u001b[38;5;28;01mreturn\u001b[39;00m \u001b[43mmethod\u001b[49m\u001b[43m(\u001b[49m\u001b[38;5;28;43mself\u001b[39;49m\u001b[43m,\u001b[49m\u001b[43m \u001b[49m\u001b[43mother\u001b[49m\u001b[43m)\u001b[49m\n",
      "File \u001b[0;32m~/test/sadha/.venv/lib/python3.10/site-packages/pandas/core/arraylike.py:56\u001b[0m, in \u001b[0;36mOpsMixin.__gt__\u001b[0;34m(self, other)\u001b[0m\n\u001b[1;32m     54\u001b[0m \u001b[38;5;129m@unpack_zerodim_and_defer\u001b[39m(\u001b[38;5;124m\"\u001b[39m\u001b[38;5;124m__gt__\u001b[39m\u001b[38;5;124m\"\u001b[39m)\n\u001b[1;32m     55\u001b[0m \u001b[38;5;28;01mdef\u001b[39;00m \u001b[38;5;21m__gt__\u001b[39m(\u001b[38;5;28mself\u001b[39m, other):\n\u001b[0;32m---> 56\u001b[0m     \u001b[38;5;28;01mreturn\u001b[39;00m \u001b[38;5;28;43mself\u001b[39;49m\u001b[38;5;241;43m.\u001b[39;49m\u001b[43m_cmp_method\u001b[49m\u001b[43m(\u001b[49m\u001b[43mother\u001b[49m\u001b[43m,\u001b[49m\u001b[43m \u001b[49m\u001b[43moperator\u001b[49m\u001b[38;5;241;43m.\u001b[39;49m\u001b[43mgt\u001b[49m\u001b[43m)\u001b[49m\n",
      "File \u001b[0;32m~/test/sadha/.venv/lib/python3.10/site-packages/pandas/core/series.py:6119\u001b[0m, in \u001b[0;36mSeries._cmp_method\u001b[0;34m(self, other, op)\u001b[0m\n\u001b[1;32m   6116\u001b[0m lvalues \u001b[38;5;241m=\u001b[39m \u001b[38;5;28mself\u001b[39m\u001b[38;5;241m.\u001b[39m_values\n\u001b[1;32m   6117\u001b[0m rvalues \u001b[38;5;241m=\u001b[39m extract_array(other, extract_numpy\u001b[38;5;241m=\u001b[39m\u001b[38;5;28;01mTrue\u001b[39;00m, extract_range\u001b[38;5;241m=\u001b[39m\u001b[38;5;28;01mTrue\u001b[39;00m)\n\u001b[0;32m-> 6119\u001b[0m res_values \u001b[38;5;241m=\u001b[39m \u001b[43mops\u001b[49m\u001b[38;5;241;43m.\u001b[39;49m\u001b[43mcomparison_op\u001b[49m\u001b[43m(\u001b[49m\u001b[43mlvalues\u001b[49m\u001b[43m,\u001b[49m\u001b[43m \u001b[49m\u001b[43mrvalues\u001b[49m\u001b[43m,\u001b[49m\u001b[43m \u001b[49m\u001b[43mop\u001b[49m\u001b[43m)\u001b[49m\n\u001b[1;32m   6121\u001b[0m \u001b[38;5;28;01mreturn\u001b[39;00m \u001b[38;5;28mself\u001b[39m\u001b[38;5;241m.\u001b[39m_construct_result(res_values, name\u001b[38;5;241m=\u001b[39mres_name)\n",
      "File \u001b[0;32m~/test/sadha/.venv/lib/python3.10/site-packages/pandas/core/ops/array_ops.py:344\u001b[0m, in \u001b[0;36mcomparison_op\u001b[0;34m(left, right, op)\u001b[0m\n\u001b[1;32m    341\u001b[0m     \u001b[38;5;28;01mreturn\u001b[39;00m invalid_comparison(lvalues, rvalues, op)\n\u001b[1;32m    343\u001b[0m \u001b[38;5;28;01melif\u001b[39;00m lvalues\u001b[38;5;241m.\u001b[39mdtype \u001b[38;5;241m==\u001b[39m \u001b[38;5;28mobject\u001b[39m \u001b[38;5;129;01mor\u001b[39;00m \u001b[38;5;28misinstance\u001b[39m(rvalues, \u001b[38;5;28mstr\u001b[39m):\n\u001b[0;32m--> 344\u001b[0m     res_values \u001b[38;5;241m=\u001b[39m \u001b[43mcomp_method_OBJECT_ARRAY\u001b[49m\u001b[43m(\u001b[49m\u001b[43mop\u001b[49m\u001b[43m,\u001b[49m\u001b[43m \u001b[49m\u001b[43mlvalues\u001b[49m\u001b[43m,\u001b[49m\u001b[43m \u001b[49m\u001b[43mrvalues\u001b[49m\u001b[43m)\u001b[49m\n\u001b[1;32m    346\u001b[0m \u001b[38;5;28;01melse\u001b[39;00m:\n\u001b[1;32m    347\u001b[0m     res_values \u001b[38;5;241m=\u001b[39m _na_arithmetic_op(lvalues, rvalues, op, is_cmp\u001b[38;5;241m=\u001b[39m\u001b[38;5;28;01mTrue\u001b[39;00m)\n",
      "File \u001b[0;32m~/test/sadha/.venv/lib/python3.10/site-packages/pandas/core/ops/array_ops.py:129\u001b[0m, in \u001b[0;36mcomp_method_OBJECT_ARRAY\u001b[0;34m(op, x, y)\u001b[0m\n\u001b[1;32m    127\u001b[0m     result \u001b[38;5;241m=\u001b[39m libops\u001b[38;5;241m.\u001b[39mvec_compare(x\u001b[38;5;241m.\u001b[39mravel(), y\u001b[38;5;241m.\u001b[39mravel(), op)\n\u001b[1;32m    128\u001b[0m \u001b[38;5;28;01melse\u001b[39;00m:\n\u001b[0;32m--> 129\u001b[0m     result \u001b[38;5;241m=\u001b[39m \u001b[43mlibops\u001b[49m\u001b[38;5;241;43m.\u001b[39;49m\u001b[43mscalar_compare\u001b[49m\u001b[43m(\u001b[49m\u001b[43mx\u001b[49m\u001b[38;5;241;43m.\u001b[39;49m\u001b[43mravel\u001b[49m\u001b[43m(\u001b[49m\u001b[43m)\u001b[49m\u001b[43m,\u001b[49m\u001b[43m \u001b[49m\u001b[43my\u001b[49m\u001b[43m,\u001b[49m\u001b[43m \u001b[49m\u001b[43mop\u001b[49m\u001b[43m)\u001b[49m\n\u001b[1;32m    130\u001b[0m \u001b[38;5;28;01mreturn\u001b[39;00m result\u001b[38;5;241m.\u001b[39mreshape(x\u001b[38;5;241m.\u001b[39mshape)\n",
      "File \u001b[0;32mops.pyx:107\u001b[0m, in \u001b[0;36mpandas._libs.ops.scalar_compare\u001b[0;34m()\u001b[0m\n",
      "\u001b[0;31mTypeError\u001b[0m: '>' not supported between instances of 'datetime.date' and 'int'"
     ]
    }
   ],
   "source": [
    "temp_df_time_filtered=filter_time_df(df,previous_n_days_lm=120,previous_n_days_ul=0)"
   ]
  },
  {
   "cell_type": "code",
   "execution_count": 18,
   "metadata": {},
   "outputs": [
    {
     "name": "stdout",
     "output_type": "stream",
     "text": [
      "Average Rating over last to last 4 months: 3.36\n"
     ]
    }
   ],
   "source": [
    "x=temp['review_rating'].mean().round(2)\n",
    "print(f'Average Rating over last to last 4 months: {x}')"
   ]
  },
  {
   "cell_type": "code",
   "execution_count": null,
   "metadata": {},
   "outputs": [],
   "source": []
  },
  {
   "cell_type": "code",
   "execution_count": null,
   "metadata": {},
   "outputs": [],
   "source": []
  }
 ],
 "metadata": {
  "kernelspec": {
   "display_name": ".venv",
   "language": "python",
   "name": "python3"
  },
  "language_info": {
   "codemirror_mode": {
    "name": "ipython",
    "version": 3
   },
   "file_extension": ".py",
   "mimetype": "text/x-python",
   "name": "python",
   "nbconvert_exporter": "python",
   "pygments_lexer": "ipython3",
   "version": "3.10.12"
  }
 },
 "nbformat": 4,
 "nbformat_minor": 2
}
